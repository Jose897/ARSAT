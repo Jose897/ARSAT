{
  "nbformat": 4,
  "nbformat_minor": 0,
  "metadata": {
    "colab": {
      "name": "Parte_2_.ipynb",
      "provenance": [],
      "authorship_tag": "ABX9TyOApBHphfl4QuFq5PW6TNp+",
      "include_colab_link": true
    },
    "kernelspec": {
      "name": "python3",
      "display_name": "Python 3"
    },
    "language_info": {
      "name": "python"
    }
  },
  "cells": [
    {
      "cell_type": "markdown",
      "metadata": {
        "id": "view-in-github",
        "colab_type": "text"
      },
      "source": [
        "<a href=\"https://colab.research.google.com/github/Jose897/ARSAT/blob/feature1/Parte_2_.ipynb\" target=\"_parent\"><img src=\"https://colab.research.google.com/assets/colab-badge.svg\" alt=\"Open In Colab\"/></a>"
      ]
    },
    {
      "cell_type": "markdown",
      "metadata": {
        "id": "vx13Nfw9OmGg"
      },
      "source": [
        "# Parte_2\n",
        "## Analisis exploratorio\n",
        "### Conclusiones"
      ]
    }
  ]
}