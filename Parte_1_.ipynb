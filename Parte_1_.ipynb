{
 "cells": [
  {
   "cell_type": "markdown",
   "metadata": {
    "colab_type": "text",
    "id": "view-in-github"
   },
   "source": [
    "<a href=\"https://colab.research.google.com/github/Jose897/ARSAT/blob/feature1/Parte_1_.ipynb\" target=\"_parent\"><img src=\"https://colab.research.google.com/assets/colab-badge.svg\" alt=\"Open In Colab\"/></a>"
   ]
  },
  {
   "cell_type": "markdown",
   "metadata": {
    "id": "gAykpqLklYFM"
   },
   "source": [
    "# **Parte 1** "
   ]
  },
  {
   "cell_type": "code",
   "execution_count": 3,
   "metadata": {
    "id": "5_3fsWzYjjMf"
   },
   "outputs": [],
   "source": [
    "# importacion general de librerias y de visualizacion (matplotlib y seaborn)\n",
    "import pandas as pd\n",
    "import numpy as np\n",
    "import matplotlib.pyplot as plt\n",
    "import seaborn as sns\n",
    "\n",
    "%matplotlib inline\n",
    "\n",
    "plt.style.use('default') # haciendo los graficos un poco mas bonitos en matplotlib\n",
    "#plt.rcParams['figure.figsize'] = (20, 10)\n",
    "\n",
    "sns.set(style=\"whitegrid\") # seteando tipo de grid en seaborn\n",
    "\n",
    "pd.options.display.float_format = '{:20,.2f}'.format # suprimimos la notacion cientifica en los outputs\n",
    "\n",
    "import warnings\n",
    "warnings.filterwarnings('ignore')"
   ]
  },
  {
   "cell_type": "code",
   "execution_count": 4,
   "metadata": {
    "id": "hNIgeJ3Nly_r"
   },
   "outputs": [
    {
     "ename": "ModuleNotFoundError",
     "evalue": "No module named 'pydrive'",
     "output_type": "error",
     "traceback": [
      "\u001b[1;31m---------------------------------------------------------------------------\u001b[0m",
      "\u001b[1;31mModuleNotFoundError\u001b[0m                       Traceback (most recent call last)",
      "\u001b[1;32m<ipython-input-4-761aabc1b564>\u001b[0m in \u001b[0;36m<module>\u001b[1;34m\u001b[0m\n\u001b[1;32m----> 1\u001b[1;33m \u001b[1;32mfrom\u001b[0m \u001b[0mpydrive\u001b[0m\u001b[1;33m.\u001b[0m\u001b[0mauth\u001b[0m \u001b[1;32mimport\u001b[0m \u001b[0mGoogleAuth\u001b[0m\u001b[1;33m\u001b[0m\u001b[1;33m\u001b[0m\u001b[0m\n\u001b[0m\u001b[0;32m      2\u001b[0m \u001b[1;32mfrom\u001b[0m \u001b[0mpydrive\u001b[0m\u001b[1;33m.\u001b[0m\u001b[0mdrive\u001b[0m \u001b[1;32mimport\u001b[0m \u001b[0mGoogleDrive\u001b[0m\u001b[1;33m\u001b[0m\u001b[1;33m\u001b[0m\u001b[0m\n\u001b[0;32m      3\u001b[0m \u001b[1;32mfrom\u001b[0m \u001b[0mgoogle\u001b[0m\u001b[1;33m.\u001b[0m\u001b[0mcolab\u001b[0m \u001b[1;32mimport\u001b[0m \u001b[0mauth\u001b[0m\u001b[1;33m\u001b[0m\u001b[1;33m\u001b[0m\u001b[0m\n\u001b[0;32m      4\u001b[0m \u001b[1;32mfrom\u001b[0m \u001b[0moauth2client\u001b[0m\u001b[1;33m.\u001b[0m\u001b[0mclient\u001b[0m \u001b[1;32mimport\u001b[0m \u001b[0mGoogleCredentials\u001b[0m\u001b[1;33m\u001b[0m\u001b[1;33m\u001b[0m\u001b[0m\n",
      "\u001b[1;31mModuleNotFoundError\u001b[0m: No module named 'pydrive'"
     ]
    }
   ],
   "source": [
    "from pydrive.auth import GoogleAuth\n",
    "from pydrive.drive import GoogleDrive\n",
    "from google.colab import auth\n",
    "from oauth2client.client import GoogleCredentials"
   ]
  },
  {
   "cell_type": "code",
   "execution_count": null,
   "metadata": {
    "id": "MJCKxJf5l0Nt"
   },
   "outputs": [],
   "source": [
    "auth.authenticate_user()\n",
    "gauth = GoogleAuth()\n",
    "gauth.credentials = GoogleCredentials.get_application_default()\n",
    "drive = GoogleDrive(gauth)"
   ]
  },
  {
   "cell_type": "code",
   "execution_count": null,
   "metadata": {
    "id": "ChnTpuHRl3-x"
   },
   "outputs": [],
   "source": [
    "#Datos en https://www.kaggle.com/dhruvildave/top-play-store-games\n",
    "id= '1rIkecZnYLL1JgDDltz_QaiUU-srwExAq'\n",
    "downloaded = drive.CreateFile({'id': id})\n",
    "downloaded.GetContentFile('train_values.csv')"
   ]
  },
  {
   "cell_type": "code",
   "execution_count": null,
   "metadata": {
    "id": "pE5pHFiQ1Pqr"
   },
   "outputs": [],
   "source": [
    "#Datos en https://www.kaggle.com/dhruvildave/top-play-store-games\n",
    "id='1y0_UGco6sKk7VmgyX7_juWe6gyulHnjM'\n",
    "downloaded = drive.CreateFile({'id': id})\n",
    "downloaded.GetContentFile('train_labels.csv')"
   ]
  },
  {
   "cell_type": "code",
   "execution_count": null,
   "metadata": {
    "colab": {
     "base_uri": "https://localhost:8080/",
     "height": 411
    },
    "id": "ZVk01TvHnE_C",
    "outputId": "599ded43-ace7-425d-a2e4-f75c1a5be5e5"
   },
   "outputs": [],
   "source": [
    "valores=pd.read_csv('train_values.csv')\n",
    "valores"
   ]
  },
  {
   "cell_type": "code",
   "execution_count": null,
   "metadata": {
    "colab": {
     "base_uri": "https://localhost:8080/",
     "height": 391
    },
    "id": "yCK3F2Ly2kBZ",
    "outputId": "20b572c6-20c5-405b-cd8d-7bd22851ea38"
   },
   "outputs": [],
   "source": [
    "etiquetas=pd.read_csv('train_labels.csv')\n",
    "etiquetas"
   ]
  },
  {
   "cell_type": "code",
   "execution_count": null,
   "metadata": {
    "colab": {
     "base_uri": "https://localhost:8080/"
    },
    "id": "vE3VH4IN6EY_",
    "outputId": "a1782a16-5066-44c2-de15-1294dec86a77"
   },
   "outputs": [],
   "source": [
    "#\n",
    "valores.info()"
   ]
  },
  {
   "cell_type": "code",
   "execution_count": null,
   "metadata": {
    "colab": {
     "base_uri": "https://localhost:8080/"
    },
    "id": "hHUPOtev6LkM",
    "outputId": "5126b2cd-9962-4f1c-a5f5-d2964e5bb15d"
   },
   "outputs": [],
   "source": [
    "etiquetas.info()"
   ]
  },
  {
   "cell_type": "code",
   "execution_count": null,
   "metadata": {
    "colab": {
     "base_uri": "https://localhost:8080/"
    },
    "id": "m6fHmpNi0VUq",
    "outputId": "b9774c9d-c4a2-42c8-9d57-c3b698efbb3e"
   },
   "outputs": [],
   "source": [
    "#Nos da las dimenciones del df (rows x columnas)\n",
    "print(valores.shape)"
   ]
  },
  {
   "cell_type": "code",
   "execution_count": null,
   "metadata": {
    "colab": {
     "base_uri": "https://localhost:8080/"
    },
    "id": "vkm7YCF70b6w",
    "outputId": "3d0b8b3a-144a-4124-8a43-293190a5280c"
   },
   "outputs": [],
   "source": [
    "print(etiquetas.shape)"
   ]
  },
  {
   "cell_type": "code",
   "execution_count": null,
   "metadata": {
    "colab": {
     "base_uri": "https://localhost:8080/"
    },
    "id": "TN49_bJK1DmQ",
    "outputId": "0b0ec2e0-32fa-4597-9e9b-8ca9eb810815"
   },
   "outputs": [],
   "source": [
    "#En caso de ser un df, devuelve rows x columnas\n",
    "valores.size"
   ]
  },
  {
   "cell_type": "code",
   "execution_count": null,
   "metadata": {
    "colab": {
     "base_uri": "https://localhost:8080/"
    },
    "id": "QFOlStWq0d1S",
    "outputId": "09da2493-0f54-47a3-9580-cd01e24059ad"
   },
   "outputs": [],
   "source": [
    "etiquetas.size"
   ]
  },
  {
   "cell_type": "code",
   "execution_count": null,
   "metadata": {
    "colab": {
     "base_uri": "https://localhost:8080/"
    },
    "id": "aTUrOj2-1a1w",
    "outputId": "29f571da-a347-4238-ba8c-0a6f65923b67"
   },
   "outputs": [],
   "source": [
    "#Podemos contar la cantidad de elementos, elementos no nulos en el data frame\n",
    "valores.count()"
   ]
  },
  {
   "cell_type": "code",
   "execution_count": null,
   "metadata": {
    "colab": {
     "base_uri": "https://localhost:8080/"
    },
    "id": "XeffZUM11mIa",
    "outputId": "ba6827ae-40ea-477c-d429-dfc6424a05c0"
   },
   "outputs": [],
   "source": [
    "etiquetas.count()"
   ]
  },
  {
   "cell_type": "code",
   "execution_count": null,
   "metadata": {
    "colab": {
     "base_uri": "https://localhost:8080/",
     "height": 1000
    },
    "id": "7kDvuzcf2t4q",
    "outputId": "26b77e57-e01f-493b-d1b9-43d81fce324e"
   },
   "outputs": [],
   "source": [
    "#Evaluo los tipos de datos de columnas\n",
    "valores.dtypes.reset_index()"
   ]
  },
  {
   "cell_type": "code",
   "execution_count": null,
   "metadata": {
    "colab": {
     "base_uri": "https://localhost:8080/",
     "height": 411
    },
    "id": "jV6XD7-w1rGz",
    "outputId": "69e5544e-880a-403c-b34c-ba444959a541"
   },
   "outputs": [],
   "source": [
    "#Filtro y elimino columnas categoricas ofuscadas\n",
    "acotar_valores= valores.iloc[:,[0,1,2,3,4,5,6,7,15,16,17,18,19,20,21,22,23,24,25,27,28,29,30,31,32,33,34,35,36,37,38]]\n",
    "acotar_valores"
   ]
  },
  {
   "cell_type": "code",
   "execution_count": null,
   "metadata": {
    "colab": {
     "base_uri": "https://localhost:8080/",
     "height": 938
    },
    "id": "dywRpWPSv-jk",
    "outputId": "aa14bbe4-0ef9-486f-817b-182c10044012"
   },
   "outputs": [],
   "source": [
    "acotar_valores.dtypes.reset_index()"
   ]
  },
  {
   "cell_type": "code",
   "execution_count": null,
   "metadata": {},
   "outputs": [],
   "source": []
  },
  {
   "cell_type": "code",
   "execution_count": null,
   "metadata": {},
   "outputs": [],
   "source": []
  },
  {
   "cell_type": "code",
   "execution_count": null,
   "metadata": {},
   "outputs": [],
   "source": []
  }
 ],
 "metadata": {
  "colab": {
   "include_colab_link": true,
   "name": "Parte_1_.ipynb",
   "provenance": []
  },
  "kernelspec": {
   "display_name": "Python 3",
   "language": "python",
   "name": "python3"
  },
  "language_info": {
   "codemirror_mode": {
    "name": "ipython",
    "version": 3
   },
   "file_extension": ".py",
   "mimetype": "text/x-python",
   "name": "python",
   "nbconvert_exporter": "python",
   "pygments_lexer": "ipython3",
   "version": "3.8.8"
  }
 },
 "nbformat": 4,
 "nbformat_minor": 1
}
