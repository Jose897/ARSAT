{
 "cells": [
  {
   "cell_type": "code",
<<<<<<< HEAD
   "execution_count": 1,
=======
   "execution_count": null,
>>>>>>> 2ce9b0fd5241c3e462eb222d887f500ef082cfae
   "metadata": {},
   "outputs": [],
   "source": [
    "import pandas as pd\n",
    "import seaborn as sns\n",
    "import matplotlib.pyplot as plt"
   ]
  },
  {
   "cell_type": "code",
   "execution_count": 2,
   "metadata": {},
   "outputs": [],
   "source": [
    "# Colores para gráficos\n",
    "\n",
    "LOW_DAMAGE_COLOR = \"#fff25e\"\n",
    "MEDIUM_DAMAGE_COLOR = \"#ffc45e\"\n",
    "SERIOUS_DAMAGE_COLOR = \"#ff5e5e\"\n",
    "DAMAGE_COLOR_PALETTE = [LOW_DAMAGE_COLOR, MEDIUM_DAMAGE_COLOR, SERIOUS_DAMAGE_COLOR]"
   ]
  },
  {
   "cell_type": "code",
   "execution_count": 3,
   "metadata": {},
   "outputs": [],
   "source": [
    "# Funciones para limpieza de datos\n",
    "\n",
    "def set_categorical_columns(df):\n",
    "    df_copy = df.copy()\n",
    "\n",
    "    columns = [\n",
    "        \"land_surface_condition\",\n",
    "        \"foundation_type\",\n",
    "        \"roof_type\",\n",
    "        \"ground_floor_type\",\n",
    "        \"other_floor_type\",\n",
    "        \"position\",\n",
    "        \"plan_configuration\",\n",
    "        \"legal_ownership_status\",\n",
    "    ]\n",
    "\n",
    "    for column in columns:\n",
    "        if column not in df:\n",
    "            continue\n",
    "        df_copy[column] = df[column].astype(\"category\")\n",
    "\n",
    "    return df_copy\n",
    "\n",
    "def set_boolean_columns(df):\n",
    "    df_copy = df.copy()\n",
    "    \n",
    "    for column in df:\n",
    "        if column.startswith(\"has_\"):\n",
    "            df_copy[column] = df[column].astype(bool)\n",
    "    \n",
    "    return df_copy"
   ]
  },
  {
   "cell_type": "code",
   "execution_count": 4,
   "metadata": {},
   "outputs": [],
   "source": [
    "# Lectura de datos\n",
    "\n",
    "values = pd.read_csv(\"train_values.csv\")\n",
    "labels = pd.read_csv(\"train_labels.csv\")\n",
    "df = values.merge(labels, on=\"building_id\")"
   ]
  },
  {
   "cell_type": "markdown",
   "metadata": {},
   "source": [
    "## Análisis y limpieza del set de datos"
   ]
  },
  {
   "cell_type": "markdown",
   "metadata": {},
   "source": [
    "Empezamos analizando los datos, para tener una idea preliminar de qué forma tienen."
   ]
  },
  {
   "cell_type": "code",
   "execution_count": 5,
   "metadata": {},
   "outputs": [
    {
     "name": "stdout",
     "output_type": "stream",
     "text": [
      "<class 'pandas.core.frame.DataFrame'>\n",
      "Int64Index: 260601 entries, 0 to 260600\n",
      "Data columns (total 40 columns):\n",
      " #   Column                                  Non-Null Count   Dtype \n",
      "---  ------                                  --------------   ----- \n",
      " 0   building_id                             260601 non-null  int64 \n",
      " 1   geo_level_1_id                          260601 non-null  int64 \n",
      " 2   geo_level_2_id                          260601 non-null  int64 \n",
      " 3   geo_level_3_id                          260601 non-null  int64 \n",
      " 4   count_floors_pre_eq                     260601 non-null  int64 \n",
      " 5   age                                     260601 non-null  int64 \n",
      " 6   area_percentage                         260601 non-null  int64 \n",
      " 7   height_percentage                       260601 non-null  int64 \n",
      " 8   land_surface_condition                  260601 non-null  object\n",
      " 9   foundation_type                         260601 non-null  object\n",
      " 10  roof_type                               260601 non-null  object\n",
      " 11  ground_floor_type                       260601 non-null  object\n",
      " 12  other_floor_type                        260601 non-null  object\n",
      " 13  position                                260601 non-null  object\n",
      " 14  plan_configuration                      260601 non-null  object\n",
      " 15  has_superstructure_adobe_mud            260601 non-null  int64 \n",
      " 16  has_superstructure_mud_mortar_stone     260601 non-null  int64 \n",
      " 17  has_superstructure_stone_flag           260601 non-null  int64 \n",
      " 18  has_superstructure_cement_mortar_stone  260601 non-null  int64 \n",
      " 19  has_superstructure_mud_mortar_brick     260601 non-null  int64 \n",
      " 20  has_superstructure_cement_mortar_brick  260601 non-null  int64 \n",
      " 21  has_superstructure_timber               260601 non-null  int64 \n",
      " 22  has_superstructure_bamboo               260601 non-null  int64 \n",
      " 23  has_superstructure_rc_non_engineered    260601 non-null  int64 \n",
      " 24  has_superstructure_rc_engineered        260601 non-null  int64 \n",
      " 25  has_superstructure_other                260601 non-null  int64 \n",
      " 26  legal_ownership_status                  260601 non-null  object\n",
      " 27  count_families                          260601 non-null  int64 \n",
      " 28  has_secondary_use                       260601 non-null  int64 \n",
      " 29  has_secondary_use_agriculture           260601 non-null  int64 \n",
      " 30  has_secondary_use_hotel                 260601 non-null  int64 \n",
      " 31  has_secondary_use_rental                260601 non-null  int64 \n",
      " 32  has_secondary_use_institution           260601 non-null  int64 \n",
      " 33  has_secondary_use_school                260601 non-null  int64 \n",
      " 34  has_secondary_use_industry              260601 non-null  int64 \n",
      " 35  has_secondary_use_health_post           260601 non-null  int64 \n",
      " 36  has_secondary_use_gov_office            260601 non-null  int64 \n",
      " 37  has_secondary_use_use_police            260601 non-null  int64 \n",
      " 38  has_secondary_use_other                 260601 non-null  int64 \n",
      " 39  damage_grade                            260601 non-null  int64 \n",
      "dtypes: int64(32), object(8)\n",
      "memory usage: 81.5+ MB\n"
     ]
    }
   ],
   "source": [
    "df.info()"
   ]
  },
  {
   "cell_type": "markdown",
   "metadata": {},
   "source": [
    "Se puede ver que ninguna columna tiene valores nulos. Además, sabemos que varias columnas corresponden a variables categóricas y booleanas, por lo que podemos convertirlas al tipo correcto."
   ]
  },
  {
   "cell_type": "code",
   "execution_count": 6,
   "metadata": {},
   "outputs": [
    {
     "name": "stdout",
     "output_type": "stream",
     "text": [
      "<class 'pandas.core.frame.DataFrame'>\n",
      "Int64Index: 260601 entries, 0 to 260600\n",
      "Data columns (total 40 columns):\n",
      " #   Column                                  Non-Null Count   Dtype   \n",
      "---  ------                                  --------------   -----   \n",
      " 0   building_id                             260601 non-null  int64   \n",
      " 1   geo_level_1_id                          260601 non-null  int64   \n",
      " 2   geo_level_2_id                          260601 non-null  int64   \n",
      " 3   geo_level_3_id                          260601 non-null  int64   \n",
      " 4   count_floors_pre_eq                     260601 non-null  int64   \n",
      " 5   age                                     260601 non-null  int64   \n",
      " 6   area_percentage                         260601 non-null  int64   \n",
      " 7   height_percentage                       260601 non-null  int64   \n",
      " 8   land_surface_condition                  260601 non-null  category\n",
      " 9   foundation_type                         260601 non-null  category\n",
      " 10  roof_type                               260601 non-null  category\n",
      " 11  ground_floor_type                       260601 non-null  category\n",
      " 12  other_floor_type                        260601 non-null  category\n",
      " 13  position                                260601 non-null  category\n",
      " 14  plan_configuration                      260601 non-null  category\n",
      " 15  has_superstructure_adobe_mud            260601 non-null  bool    \n",
      " 16  has_superstructure_mud_mortar_stone     260601 non-null  bool    \n",
      " 17  has_superstructure_stone_flag           260601 non-null  bool    \n",
      " 18  has_superstructure_cement_mortar_stone  260601 non-null  bool    \n",
      " 19  has_superstructure_mud_mortar_brick     260601 non-null  bool    \n",
      " 20  has_superstructure_cement_mortar_brick  260601 non-null  bool    \n",
      " 21  has_superstructure_timber               260601 non-null  bool    \n",
      " 22  has_superstructure_bamboo               260601 non-null  bool    \n",
      " 23  has_superstructure_rc_non_engineered    260601 non-null  bool    \n",
      " 24  has_superstructure_rc_engineered        260601 non-null  bool    \n",
      " 25  has_superstructure_other                260601 non-null  bool    \n",
      " 26  legal_ownership_status                  260601 non-null  category\n",
      " 27  count_families                          260601 non-null  int64   \n",
      " 28  has_secondary_use                       260601 non-null  bool    \n",
      " 29  has_secondary_use_agriculture           260601 non-null  bool    \n",
      " 30  has_secondary_use_hotel                 260601 non-null  bool    \n",
      " 31  has_secondary_use_rental                260601 non-null  bool    \n",
      " 32  has_secondary_use_institution           260601 non-null  bool    \n",
      " 33  has_secondary_use_school                260601 non-null  bool    \n",
      " 34  has_secondary_use_industry              260601 non-null  bool    \n",
      " 35  has_secondary_use_health_post           260601 non-null  bool    \n",
      " 36  has_secondary_use_gov_office            260601 non-null  bool    \n",
      " 37  has_secondary_use_use_police            260601 non-null  bool    \n",
      " 38  has_secondary_use_other                 260601 non-null  bool    \n",
      " 39  damage_grade                            260601 non-null  int64   \n",
      "dtypes: bool(22), category(8), int64(10)\n",
      "memory usage: 29.3 MB\n"
     ]
    }
   ],
   "source": [
    "df = set_categorical_columns(df)\n",
    "df = set_boolean_columns(df)\n",
    "df.info()"
   ]
  },
  {
   "cell_type": "markdown",
   "metadata": {},
   "source": [
    "## Distribución de los datos"
   ]
  },
  {
   "cell_type": "markdown",
   "metadata": {},
   "source": [
    "Se puede ver cuántas edificicaciones hay por cada nivel de daño."
   ]
  },
  {
   "cell_type": "code",
   "execution_count": 7,
   "metadata": {},
   "outputs": [
    {
     "data": {
      "text/plain": [
       "Text(0, 0.5, 'Cantidad')"
      ]
     },
     "execution_count": 7,
     "metadata": {},
     "output_type": "execute_result"
    },
    {
     "data": {
      "image/png": "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\n",
      "text/plain": [
       "<Figure size 432x288 with 1 Axes>"
      ]
     },
     "metadata": {
      "needs_background": "light"
     },
     "output_type": "display_data"
    }
   ],
   "source": [
    "ax = sns.countplot(data=df, x=\"damage_grade\", palette=DAMAGE_COLOR_PALETTE)\n",
    "ax.set_title(\"Cantidad de edificaciones por nivel de daño\")\n",
    "ax.set_xlabel(\"Nivel de daño\")\n",
    "ax.set_ylabel(\"Cantidad\")"
   ]
  },
  {
   "cell_type": "markdown",
   "metadata": {},
   "source": [
    "La mayoría de los edificios presentes en el set de datos tuvieron un nivel de daño 2, mientras que hay muy pocos con nivel 1 en comparación con los otros dos niveles. Esto implica un desbalance en los datos disponibles que podría ser importante tener en cuenta a la hora de sacar conclusiones."
   ]
  },
  {
   "cell_type": "markdown",
   "metadata": {},
   "source": [
    "## Correlación entre las distintas variables y el nivel de daño"
   ]
  },
  {
   "cell_type": "markdown",
   "metadata": {},
   "source": [
    "Como primera aproximación para entender como influyen las distintas características de las edificaciones con el daño sufrido por el terremoto, podemos realizar un heatmap a partir de la matriz de correlación obtenida del dataframe."
   ]
  },
  {
   "cell_type": "code",
   "execution_count": 8,
   "metadata": {
    "scrolled": false
   },
   "outputs": [
    {
     "data": {
      "text/plain": [
       "Text(0.5, 1.0, 'Correlación entre las distintas variables y el nivel de daño')"
      ]
     },
     "execution_count": 8,
     "metadata": {},
     "output_type": "execute_result"
    },
    {
     "data": {
      "image/png": "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\n",
      "text/plain": [
       "<Figure size 720x864 with 2 Axes>"
      ]
     },
     "metadata": {
      "needs_background": "light"
     },
     "output_type": "display_data"
    }
   ],
   "source": [
    "fig, ax = plt.subplots(figsize=(10, 12))\n",
    "sns.heatmap(data=df.corr()[\"damage_grade\"].to_frame(), ax=ax)\n",
    "ax.set_title(\"Correlación entre las distintas variables y el nivel de daño\")"
   ]
  },
  {
   "cell_type": "markdown",
   "metadata": {},
   "source": [
    "Se puede observar del gráfico que muchas variables tienen una correlación baja o nula con el nivel de daño que sufrió la edificación. Sin embargo, se ven algunas que pueden llegar a ser interesantes, como `count_floors_pre_eq` (correlación positiva) o `has_superstructure_cement_mortar_brick` (correlación negativa). Esto podría indicar que los edificios más altos sufrieron más daño, y por otro lado, los que fueron construidos con cemento y ladrillos mostraron mayor resistencia."
   ]
  },
  {
   "cell_type": "markdown",
   "metadata": {},
   "source": [
    "## Material usado en la construcción"
   ]
  },
  {
   "cell_type": "markdown",
   "metadata": {},
   "source": [
    "Varias columnas del set de datos nos dan información sobre los materiales usados en las construcciones de las edificaciones. Esto puede ser una característica importante para determinar si un edificio sufrió un daño mayor o menor."
   ]
  },
  {
   "cell_type": "code",
   "execution_count": 9,
   "metadata": {},
   "outputs": [
    {
     "data": {
      "text/plain": [
       "15137"
      ]
     },
     "execution_count": 9,
     "metadata": {},
     "output_type": "execute_result"
    }
   ],
   "source": [
    "# Cantidad de edificaciones construidas con concreto (diseñado o no)\n",
    "\n",
    "buildings_with_superstructure_rc =\\\n",
    "    df[(df[\"has_superstructure_rc_non_engineered\"] == 1) | (df[\"has_superstructure_rc_engineered\"] == 1)]\n",
    "\n",
    "len(buildings_with_superstructure_rc)"
   ]
  },
  {
   "cell_type": "code",
   "execution_count": 10,
   "metadata": {},
   "outputs": [
    {
     "data": {
      "text/plain": [
       "Text(0, 0.5, 'Cantidad')"
      ]
     },
     "execution_count": 10,
     "metadata": {},
     "output_type": "execute_result"
    },
    {
     "data": {
      "image/png": "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\n",
      "text/plain": [
       "<Figure size 432x288 with 1 Axes>"
      ]
     },
     "metadata": {
      "needs_background": "light"
     },
     "output_type": "display_data"
    }
   ],
   "source": [
    "ax = sns.countplot(data=buildings_with_superstructure_rc, x=\"damage_grade\", palette=DAMAGE_COLOR_PALETTE)\n",
    "ax.set_title(\"Cantidad de edificaciones por nivel de daño, para edificaciones construidas con concreto\")\n",
    "ax.set_xlabel(\"Nivel de daño\")\n",
    "ax.set_ylabel(\"Cantidad\")"
   ]
  },
  {
   "cell_type": "code",
   "execution_count": 11,
   "metadata": {},
   "outputs": [
    {
     "data": {
      "text/plain": [
       "3905"
      ]
     },
     "execution_count": 11,
     "metadata": {},
     "output_type": "execute_result"
    }
   ],
   "source": [
    "# Cantidad de edificaciones construidas con otro tipo de material\n",
    "\n",
    "buildings_with_superstructure_other =\\\n",
    "    df[df[\"has_superstructure_other\"] == 1]\n",
    "\n",
    "len(buildings_with_superstructure_other)"
   ]
  },
  {
   "cell_type": "code",
   "execution_count": 12,
   "metadata": {
    "scrolled": false
   },
   "outputs": [
    {
     "data": {
      "text/plain": [
       "Text(0, 0.5, 'Cantidad')"
      ]
     },
     "execution_count": 12,
     "metadata": {},
     "output_type": "execute_result"
    },
    {
     "data": {
      "image/png": "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\n",
      "text/plain": [
       "<Figure size 432x288 with 1 Axes>"
      ]
     },
     "metadata": {
      "needs_background": "light"
     },
     "output_type": "display_data"
    }
   ],
   "source": [
    "ax = sns.countplot(data=buildings_with_superstructure_other, x=\"damage_grade\", palette=DAMAGE_COLOR_PALETTE)\n",
    "ax.set_title(\"Cantidad de edificaciones por nivel de daño, para edificaciones construidas con otro material\")\n",
    "ax.set_xlabel(\"Nivel de daño\")\n",
    "ax.set_ylabel(\"Cantidad\")"
   ]
  },
  {
   "cell_type": "markdown",
   "metadata": {},
   "source": [
    "En el set de datos, hay muchas más edificaciones construidas con concreto que con otro tipo de material. Sin embargo, podemos observar de los gráficos que las construidas con concreto parecen tener una tendencia a sufrir un daño menor."
   ]
  },
  {
   "cell_type": "markdown",
   "metadata": {},
   "source": [
    "## Cantidad de familias por edificación"
   ]
  },
  {
   "cell_type": "code",
   "execution_count": 13,
   "metadata": {
    "scrolled": false
   },
   "outputs": [
    {
     "data": {
      "text/plain": [
       "1    226115\n",
       "0     20862\n",
       "2     11294\n",
       "3      1802\n",
       "4       389\n",
       "5       104\n",
       "6        22\n",
       "7         7\n",
       "9         4\n",
       "8         2\n",
       "Name: count_families, dtype: int64"
      ]
     },
     "execution_count": 13,
     "metadata": {},
     "output_type": "execute_result"
    }
   ],
   "source": [
    "df[\"count_families\"].value_counts()"
   ]
  },
  {
   "cell_type": "markdown",
   "metadata": {},
   "source": [
    "## Usos secundarios de las edificaciones"
   ]
  },
  {
   "cell_type": "code",
   "execution_count": 14,
   "metadata": {},
   "outputs": [
    {
     "data": {
      "text/plain": [
       "False    231445\n",
       "True      29156\n",
       "Name: has_secondary_use, dtype: int64"
      ]
     },
     "execution_count": 14,
     "metadata": {},
     "output_type": "execute_result"
    }
   ],
   "source": [
    "df[\"has_secondary_use\"].value_counts()"
   ]
  },
  {
   "cell_type": "code",
   "execution_count": 15,
   "metadata": {},
   "outputs": [
    {
     "data": {
      "text/html": [
       "<div>\n",
       "<style scoped>\n",
       "    .dataframe tbody tr th:only-of-type {\n",
       "        vertical-align: middle;\n",
       "    }\n",
       "\n",
       "    .dataframe tbody tr th {\n",
       "        vertical-align: top;\n",
       "    }\n",
       "\n",
       "    .dataframe thead th {\n",
       "        text-align: right;\n",
       "    }\n",
       "</style>\n",
       "<table border=\"1\" class=\"dataframe\">\n",
       "  <thead>\n",
       "    <tr style=\"text-align: right;\">\n",
       "      <th></th>\n",
       "      <th>building_id</th>\n",
       "      <th>geo_level_1_id</th>\n",
       "      <th>geo_level_2_id</th>\n",
       "      <th>geo_level_3_id</th>\n",
       "      <th>count_floors_pre_eq</th>\n",
       "      <th>age</th>\n",
       "      <th>area_percentage</th>\n",
       "      <th>height_percentage</th>\n",
       "      <th>land_surface_condition</th>\n",
       "      <th>foundation_type</th>\n",
       "      <th>...</th>\n",
       "      <th>has_secondary_use_hotel</th>\n",
       "      <th>has_secondary_use_rental</th>\n",
       "      <th>has_secondary_use_institution</th>\n",
       "      <th>has_secondary_use_school</th>\n",
       "      <th>has_secondary_use_industry</th>\n",
       "      <th>has_secondary_use_health_post</th>\n",
       "      <th>has_secondary_use_gov_office</th>\n",
       "      <th>has_secondary_use_use_police</th>\n",
       "      <th>has_secondary_use_other</th>\n",
       "      <th>damage_grade</th>\n",
       "    </tr>\n",
       "  </thead>\n",
       "  <tbody>\n",
       "    <tr>\n",
       "      <th>0</th>\n",
       "      <td>802906</td>\n",
       "      <td>6</td>\n",
       "      <td>487</td>\n",
       "      <td>12198</td>\n",
       "      <td>2</td>\n",
       "      <td>30</td>\n",
       "      <td>6</td>\n",
       "      <td>5</td>\n",
       "      <td>t</td>\n",
       "      <td>r</td>\n",
       "      <td>...</td>\n",
       "      <td>False</td>\n",
       "      <td>False</td>\n",
       "      <td>False</td>\n",
       "      <td>False</td>\n",
       "      <td>False</td>\n",
       "      <td>False</td>\n",
       "      <td>False</td>\n",
       "      <td>False</td>\n",
       "      <td>False</td>\n",
       "      <td>3</td>\n",
       "    </tr>\n",
       "    <tr>\n",
       "      <th>1</th>\n",
       "      <td>28830</td>\n",
       "      <td>8</td>\n",
       "      <td>900</td>\n",
       "      <td>2812</td>\n",
       "      <td>2</td>\n",
       "      <td>10</td>\n",
       "      <td>8</td>\n",
       "      <td>7</td>\n",
       "      <td>o</td>\n",
       "      <td>r</td>\n",
       "      <td>...</td>\n",
       "      <td>False</td>\n",
       "      <td>False</td>\n",
       "      <td>False</td>\n",
       "      <td>False</td>\n",
       "      <td>False</td>\n",
       "      <td>False</td>\n",
       "      <td>False</td>\n",
       "      <td>False</td>\n",
       "      <td>False</td>\n",
       "      <td>2</td>\n",
       "    </tr>\n",
       "    <tr>\n",
       "      <th>2</th>\n",
       "      <td>94947</td>\n",
       "      <td>21</td>\n",
       "      <td>363</td>\n",
       "      <td>8973</td>\n",
       "      <td>2</td>\n",
       "      <td>10</td>\n",
       "      <td>5</td>\n",
       "      <td>5</td>\n",
       "      <td>t</td>\n",
       "      <td>r</td>\n",
       "      <td>...</td>\n",
       "      <td>False</td>\n",
       "      <td>False</td>\n",
       "      <td>False</td>\n",
       "      <td>False</td>\n",
       "      <td>False</td>\n",
       "      <td>False</td>\n",
       "      <td>False</td>\n",
       "      <td>False</td>\n",
       "      <td>False</td>\n",
       "      <td>3</td>\n",
       "    </tr>\n",
       "    <tr>\n",
       "      <th>3</th>\n",
       "      <td>590882</td>\n",
       "      <td>22</td>\n",
       "      <td>418</td>\n",
       "      <td>10694</td>\n",
       "      <td>2</td>\n",
       "      <td>10</td>\n",
       "      <td>6</td>\n",
       "      <td>5</td>\n",
       "      <td>t</td>\n",
       "      <td>r</td>\n",
       "      <td>...</td>\n",
       "      <td>False</td>\n",
       "      <td>False</td>\n",
       "      <td>False</td>\n",
       "      <td>False</td>\n",
       "      <td>False</td>\n",
       "      <td>False</td>\n",
       "      <td>False</td>\n",
       "      <td>False</td>\n",
       "      <td>False</td>\n",
       "      <td>2</td>\n",
       "    </tr>\n",
       "    <tr>\n",
       "      <th>4</th>\n",
       "      <td>201944</td>\n",
       "      <td>11</td>\n",
       "      <td>131</td>\n",
       "      <td>1488</td>\n",
       "      <td>3</td>\n",
       "      <td>30</td>\n",
       "      <td>8</td>\n",
       "      <td>9</td>\n",
       "      <td>t</td>\n",
       "      <td>r</td>\n",
       "      <td>...</td>\n",
       "      <td>False</td>\n",
       "      <td>False</td>\n",
       "      <td>False</td>\n",
       "      <td>False</td>\n",
       "      <td>False</td>\n",
       "      <td>False</td>\n",
       "      <td>False</td>\n",
       "      <td>False</td>\n",
       "      <td>False</td>\n",
       "      <td>3</td>\n",
       "    </tr>\n",
       "  </tbody>\n",
       "</table>\n",
       "<p>5 rows × 40 columns</p>\n",
       "</div>"
      ],
      "text/plain": [
       "   building_id  geo_level_1_id  geo_level_2_id  geo_level_3_id  \\\n",
       "0       802906               6             487           12198   \n",
       "1        28830               8             900            2812   \n",
       "2        94947              21             363            8973   \n",
       "3       590882              22             418           10694   \n",
       "4       201944              11             131            1488   \n",
       "\n",
       "   count_floors_pre_eq  age  area_percentage  height_percentage  \\\n",
       "0                    2   30                6                  5   \n",
       "1                    2   10                8                  7   \n",
       "2                    2   10                5                  5   \n",
       "3                    2   10                6                  5   \n",
       "4                    3   30                8                  9   \n",
       "\n",
       "  land_surface_condition foundation_type  ... has_secondary_use_hotel  \\\n",
       "0                      t               r  ...                   False   \n",
       "1                      o               r  ...                   False   \n",
       "2                      t               r  ...                   False   \n",
       "3                      t               r  ...                   False   \n",
       "4                      t               r  ...                   False   \n",
       "\n",
       "  has_secondary_use_rental has_secondary_use_institution  \\\n",
       "0                    False                         False   \n",
       "1                    False                         False   \n",
       "2                    False                         False   \n",
       "3                    False                         False   \n",
       "4                    False                         False   \n",
       "\n",
       "  has_secondary_use_school has_secondary_use_industry  \\\n",
       "0                    False                      False   \n",
       "1                    False                      False   \n",
       "2                    False                      False   \n",
       "3                    False                      False   \n",
       "4                    False                      False   \n",
       "\n",
       "   has_secondary_use_health_post  has_secondary_use_gov_office  \\\n",
       "0                          False                         False   \n",
       "1                          False                         False   \n",
       "2                          False                         False   \n",
       "3                          False                         False   \n",
       "4                          False                         False   \n",
       "\n",
       "   has_secondary_use_use_police  has_secondary_use_other  damage_grade  \n",
       "0                         False                    False             3  \n",
       "1                         False                    False             2  \n",
       "2                         False                    False             3  \n",
       "3                         False                    False             2  \n",
       "4                         False                    False             3  \n",
       "\n",
       "[5 rows x 40 columns]"
      ]
     },
     "execution_count": 15,
     "metadata": {},
     "output_type": "execute_result"
    }
   ],
   "source": [
    "df.head()"
   ]
  },
  {
   "cell_type": "code",
<<<<<<< HEAD
   "execution_count": 16,
=======
   "execution_count": 62,
>>>>>>> 2ce9b0fd5241c3e462eb222d887f500ef082cfae
   "metadata": {},
   "outputs": [
    {
     "data": {
      "text/html": [
       "<div>\n",
       "<style scoped>\n",
       "    .dataframe tbody tr th:only-of-type {\n",
       "        vertical-align: middle;\n",
       "    }\n",
       "\n",
       "    .dataframe tbody tr th {\n",
       "        vertical-align: top;\n",
       "    }\n",
       "\n",
       "    .dataframe thead th {\n",
       "        text-align: right;\n",
       "    }\n",
       "</style>\n",
       "<table border=\"1\" class=\"dataframe\">\n",
       "  <thead>\n",
       "    <tr style=\"text-align: right;\">\n",
       "      <th></th>\n",
       "      <th>building_id</th>\n",
       "      <th>geo_level_1_id</th>\n",
       "      <th>geo_level_2_id</th>\n",
       "      <th>geo_level_3_id</th>\n",
       "      <th>has_superstructure_adobe_mud</th>\n",
       "      <th>has_superstructure_mud_mortar_stone</th>\n",
       "      <th>has_superstructure_stone_flag</th>\n",
       "      <th>has_superstructure_cement_mortar_stone</th>\n",
       "      <th>has_superstructure_mud_mortar_brick</th>\n",
       "      <th>has_superstructure_cement_mortar_brick</th>\n",
       "      <th>has_superstructure_timber</th>\n",
       "      <th>has_superstructure_bamboo</th>\n",
       "      <th>damage_grade</th>\n",
       "    </tr>\n",
       "  </thead>\n",
       "  <tbody>\n",
       "    <tr>\n",
       "      <th>0</th>\n",
       "      <td>802906</td>\n",
       "      <td>6</td>\n",
       "      <td>487</td>\n",
       "      <td>12198</td>\n",
       "      <td>True</td>\n",
       "      <td>True</td>\n",
       "      <td>False</td>\n",
       "      <td>False</td>\n",
       "      <td>False</td>\n",
       "      <td>False</td>\n",
       "      <td>False</td>\n",
       "      <td>False</td>\n",
       "      <td>3</td>\n",
       "    </tr>\n",
       "    <tr>\n",
       "      <th>1</th>\n",
       "      <td>28830</td>\n",
       "      <td>8</td>\n",
       "      <td>900</td>\n",
       "      <td>2812</td>\n",
       "      <td>False</td>\n",
       "      <td>True</td>\n",
       "      <td>False</td>\n",
       "      <td>False</td>\n",
       "      <td>False</td>\n",
       "      <td>False</td>\n",
       "      <td>False</td>\n",
       "      <td>False</td>\n",
       "      <td>2</td>\n",
       "    </tr>\n",
       "    <tr>\n",
       "      <th>2</th>\n",
       "      <td>94947</td>\n",
       "      <td>21</td>\n",
       "      <td>363</td>\n",
       "      <td>8973</td>\n",
       "      <td>False</td>\n",
       "      <td>True</td>\n",
       "      <td>False</td>\n",
       "      <td>False</td>\n",
       "      <td>False</td>\n",
       "      <td>False</td>\n",
       "      <td>False</td>\n",
       "      <td>False</td>\n",
       "      <td>3</td>\n",
       "    </tr>\n",
       "    <tr>\n",
       "      <th>3</th>\n",
       "      <td>590882</td>\n",
       "      <td>22</td>\n",
       "      <td>418</td>\n",
       "      <td>10694</td>\n",
       "      <td>False</td>\n",
       "      <td>True</td>\n",
       "      <td>False</td>\n",
       "      <td>False</td>\n",
       "      <td>False</td>\n",
       "      <td>False</td>\n",
       "      <td>True</td>\n",
       "      <td>True</td>\n",
       "      <td>2</td>\n",
       "    </tr>\n",
       "    <tr>\n",
       "      <th>4</th>\n",
       "      <td>201944</td>\n",
       "      <td>11</td>\n",
       "      <td>131</td>\n",
       "      <td>1488</td>\n",
       "      <td>True</td>\n",
       "      <td>False</td>\n",
       "      <td>False</td>\n",
       "      <td>False</td>\n",
       "      <td>False</td>\n",
       "      <td>False</td>\n",
       "      <td>False</td>\n",
       "      <td>False</td>\n",
       "      <td>3</td>\n",
       "    </tr>\n",
       "    <tr>\n",
       "      <th>...</th>\n",
       "      <td>...</td>\n",
       "      <td>...</td>\n",
       "      <td>...</td>\n",
       "      <td>...</td>\n",
       "      <td>...</td>\n",
       "      <td>...</td>\n",
       "      <td>...</td>\n",
       "      <td>...</td>\n",
       "      <td>...</td>\n",
       "      <td>...</td>\n",
       "      <td>...</td>\n",
       "      <td>...</td>\n",
       "      <td>...</td>\n",
       "    </tr>\n",
       "    <tr>\n",
       "      <th>260596</th>\n",
       "      <td>688636</td>\n",
       "      <td>25</td>\n",
       "      <td>1335</td>\n",
       "      <td>1621</td>\n",
       "      <td>False</td>\n",
       "      <td>True</td>\n",
       "      <td>False</td>\n",
       "      <td>False</td>\n",
       "      <td>False</td>\n",
       "      <td>False</td>\n",
       "      <td>False</td>\n",
       "      <td>False</td>\n",
       "      <td>2</td>\n",
       "    </tr>\n",
       "    <tr>\n",
       "      <th>260597</th>\n",
       "      <td>669485</td>\n",
       "      <td>17</td>\n",
       "      <td>715</td>\n",
       "      <td>2060</td>\n",
       "      <td>False</td>\n",
       "      <td>True</td>\n",
       "      <td>False</td>\n",
       "      <td>False</td>\n",
       "      <td>False</td>\n",
       "      <td>False</td>\n",
       "      <td>False</td>\n",
       "      <td>False</td>\n",
       "      <td>3</td>\n",
       "    </tr>\n",
       "    <tr>\n",
       "      <th>260598</th>\n",
       "      <td>602512</td>\n",
       "      <td>17</td>\n",
       "      <td>51</td>\n",
       "      <td>8163</td>\n",
       "      <td>False</td>\n",
       "      <td>True</td>\n",
       "      <td>False</td>\n",
       "      <td>False</td>\n",
       "      <td>False</td>\n",
       "      <td>False</td>\n",
       "      <td>False</td>\n",
       "      <td>False</td>\n",
       "      <td>3</td>\n",
       "    </tr>\n",
       "    <tr>\n",
       "      <th>260599</th>\n",
       "      <td>151409</td>\n",
       "      <td>26</td>\n",
       "      <td>39</td>\n",
       "      <td>1851</td>\n",
       "      <td>False</td>\n",
       "      <td>False</td>\n",
       "      <td>False</td>\n",
       "      <td>False</td>\n",
       "      <td>False</td>\n",
       "      <td>True</td>\n",
       "      <td>False</td>\n",
       "      <td>False</td>\n",
       "      <td>2</td>\n",
       "    </tr>\n",
       "    <tr>\n",
       "      <th>260600</th>\n",
       "      <td>747594</td>\n",
       "      <td>21</td>\n",
       "      <td>9</td>\n",
       "      <td>9101</td>\n",
       "      <td>False</td>\n",
       "      <td>True</td>\n",
       "      <td>False</td>\n",
       "      <td>False</td>\n",
       "      <td>False</td>\n",
       "      <td>False</td>\n",
       "      <td>False</td>\n",
       "      <td>False</td>\n",
       "      <td>3</td>\n",
       "    </tr>\n",
       "  </tbody>\n",
       "</table>\n",
       "<p>260601 rows × 13 columns</p>\n",
       "</div>"
      ],
      "text/plain": [
       "        building_id  geo_level_1_id  geo_level_2_id  geo_level_3_id  \\\n",
       "0            802906               6             487           12198   \n",
       "1             28830               8             900            2812   \n",
       "2             94947              21             363            8973   \n",
       "3            590882              22             418           10694   \n",
       "4            201944              11             131            1488   \n",
       "...             ...             ...             ...             ...   \n",
       "260596       688636              25            1335            1621   \n",
       "260597       669485              17             715            2060   \n",
       "260598       602512              17              51            8163   \n",
       "260599       151409              26              39            1851   \n",
       "260600       747594              21               9            9101   \n",
       "\n",
       "        has_superstructure_adobe_mud  has_superstructure_mud_mortar_stone  \\\n",
       "0                               True                                 True   \n",
       "1                              False                                 True   \n",
       "2                              False                                 True   \n",
       "3                              False                                 True   \n",
       "4                               True                                False   \n",
       "...                              ...                                  ...   \n",
       "260596                         False                                 True   \n",
       "260597                         False                                 True   \n",
       "260598                         False                                 True   \n",
       "260599                         False                                False   \n",
       "260600                         False                                 True   \n",
       "\n",
       "        has_superstructure_stone_flag  has_superstructure_cement_mortar_stone  \\\n",
       "0                               False                                   False   \n",
       "1                               False                                   False   \n",
       "2                               False                                   False   \n",
       "3                               False                                   False   \n",
       "4                               False                                   False   \n",
       "...                               ...                                     ...   \n",
       "260596                          False                                   False   \n",
       "260597                          False                                   False   \n",
       "260598                          False                                   False   \n",
       "260599                          False                                   False   \n",
       "260600                          False                                   False   \n",
       "\n",
       "        has_superstructure_mud_mortar_brick  \\\n",
       "0                                     False   \n",
       "1                                     False   \n",
       "2                                     False   \n",
       "3                                     False   \n",
       "4                                     False   \n",
       "...                                     ...   \n",
       "260596                                False   \n",
       "260597                                False   \n",
       "260598                                False   \n",
       "260599                                False   \n",
       "260600                                False   \n",
       "\n",
       "        has_superstructure_cement_mortar_brick  has_superstructure_timber  \\\n",
       "0                                        False                      False   \n",
       "1                                        False                      False   \n",
       "2                                        False                      False   \n",
       "3                                        False                       True   \n",
       "4                                        False                      False   \n",
       "...                                        ...                        ...   \n",
       "260596                                   False                      False   \n",
       "260597                                   False                      False   \n",
       "260598                                   False                      False   \n",
       "260599                                    True                      False   \n",
       "260600                                   False                      False   \n",
       "\n",
       "        has_superstructure_bamboo  damage_grade  \n",
       "0                           False             3  \n",
       "1                           False             2  \n",
       "2                           False             3  \n",
       "3                            True             2  \n",
       "4                           False             3  \n",
       "...                           ...           ...  \n",
       "260596                      False             2  \n",
       "260597                      False             3  \n",
       "260598                      False             3  \n",
       "260599                      False             2  \n",
       "260600                      False             3  \n",
       "\n",
       "[260601 rows x 13 columns]"
      ]
     },
<<<<<<< HEAD
     "execution_count": 16,
=======
     "execution_count": 62,
>>>>>>> 2ce9b0fd5241c3e462eb222d887f500ef082cfae
     "metadata": {},
     "output_type": "execute_result"
    }
   ],
   "source": [
    "df_fmferro = df.loc[:,['building_id','geo_level_1_id','geo_level_2_id','geo_level_3_id','has_superstructure_adobe_mud','has_superstructure_mud_mortar_stone','has_superstructure_stone_flag','has_superstructure_cement_mortar_stone','has_superstructure_mud_mortar_brick','has_superstructure_cement_mortar_brick','has_superstructure_timber','has_superstructure_bamboo','damage_grade']]\n",
    "df_fmferro_general = df.loc[:,['geo_level_1_id','geo_level_2_id','geo_level_3_id','has_superstructure_adobe_mud','has_superstructure_mud_mortar_stone','has_superstructure_stone_flag','has_superstructure_cement_mortar_stone','has_superstructure_mud_mortar_brick','has_superstructure_cement_mortar_brick','has_superstructure_timber','has_superstructure_bamboo','damage_grade']]\n",
    "df_fmferro\n"
   ]
  },
  {
   "cell_type": "code",
<<<<<<< HEAD
   "execution_count": 17,
   "metadata": {},
   "outputs": [
    {
     "data": {
      "text/plain": [
       "6     24381\n",
       "26    22615\n",
       "10    22079\n",
       "17    21813\n",
       "8     19080\n",
       "7     18994\n",
       "20    17216\n",
       "21    14889\n",
       "4     14568\n",
       "27    12532\n",
       "13     9608\n",
       "11     8220\n",
       "3      7540\n",
       "22     6252\n",
       "25     5624\n",
       "16     4332\n",
       "0      4011\n",
       "9      3958\n",
       "12     3194\n",
       "18     3189\n",
       "1      2701\n",
       "5      2690\n",
       "30     2686\n",
       "15     2320\n",
       "14     1714\n",
       "24     1310\n",
       "23     1121\n",
       "2       931\n",
       "29      396\n",
       "19      372\n",
       "28      265\n",
       "Name: geo_level_1_id, dtype: int64"
      ]
     },
     "execution_count": 17,
     "metadata": {},
     "output_type": "execute_result"
    }
   ],
   "source": [
    "geo_1 = df_fmferro['geo_level_1_id'].value_counts()\n",
    "geo_2 = df_fmferro['geo_level_2_id'].value_counts()\n",
    "geo_3 = df_fmferro['geo_level_3_id'].value_counts()\n",
    "geo_1\n",
    "\n"
   ]
  },
  {
   "cell_type": "code",
=======
>>>>>>> 2ce9b0fd5241c3e462eb222d887f500ef082cfae
   "execution_count": 18,
   "metadata": {},
   "outputs": [
    {
     "data": {
      "text/html": [
       "<div>\n",
       "<style scoped>\n",
       "    .dataframe tbody tr th:only-of-type {\n",
       "        vertical-align: middle;\n",
       "    }\n",
       "\n",
       "    .dataframe tbody tr th {\n",
       "        vertical-align: top;\n",
       "    }\n",
       "\n",
       "    .dataframe thead th {\n",
       "        text-align: right;\n",
       "    }\n",
       "</style>\n",
       "<table border=\"1\" class=\"dataframe\">\n",
       "  <thead>\n",
       "    <tr style=\"text-align: right;\">\n",
       "      <th></th>\n",
       "      <th></th>\n",
       "      <th>building_id</th>\n",
       "      <th>geo_level_2_id</th>\n",
       "      <th>geo_level_3_id</th>\n",
       "    </tr>\n",
       "    <tr>\n",
       "      <th>geo_level_1_id</th>\n",
       "      <th>damage_grade</th>\n",
       "      <th></th>\n",
       "      <th></th>\n",
       "      <th></th>\n",
       "    </tr>\n",
       "  </thead>\n",
       "  <tbody>\n",
       "    <tr>\n",
       "      <th rowspan=\"3\" valign=\"top\">0</th>\n",
       "      <th>1</th>\n",
       "      <td>337</td>\n",
       "      <td>337</td>\n",
       "      <td>337</td>\n",
       "    </tr>\n",
       "    <tr>\n",
       "      <th>2</th>\n",
       "      <td>3075</td>\n",
       "      <td>3075</td>\n",
       "      <td>3075</td>\n",
       "    </tr>\n",
       "    <tr>\n",
       "      <th>3</th>\n",
       "      <td>599</td>\n",
       "      <td>599</td>\n",
       "      <td>599</td>\n",
       "    </tr>\n",
       "    <tr>\n",
       "      <th rowspan=\"2\" valign=\"top\">1</th>\n",
       "      <th>1</th>\n",
       "      <td>411</td>\n",
       "      <td>411</td>\n",
       "      <td>411</td>\n",
       "    </tr>\n",
       "    <tr>\n",
       "      <th>2</th>\n",
       "      <td>1985</td>\n",
       "      <td>1985</td>\n",
       "      <td>1985</td>\n",
       "    </tr>\n",
       "    <tr>\n",
       "      <th>...</th>\n",
       "      <th>...</th>\n",
       "      <td>...</td>\n",
       "      <td>...</td>\n",
       "      <td>...</td>\n",
       "    </tr>\n",
       "    <tr>\n",
       "      <th rowspan=\"2\" valign=\"top\">29</th>\n",
       "      <th>2</th>\n",
       "      <td>349</td>\n",
       "      <td>349</td>\n",
       "      <td>349</td>\n",
       "    </tr>\n",
       "    <tr>\n",
       "      <th>3</th>\n",
       "      <td>39</td>\n",
       "      <td>39</td>\n",
       "      <td>39</td>\n",
       "    </tr>\n",
       "    <tr>\n",
       "      <th rowspan=\"3\" valign=\"top\">30</th>\n",
       "      <th>1</th>\n",
       "      <td>252</td>\n",
       "      <td>252</td>\n",
       "      <td>252</td>\n",
       "    </tr>\n",
       "    <tr>\n",
       "      <th>2</th>\n",
       "      <td>2127</td>\n",
       "      <td>2127</td>\n",
       "      <td>2127</td>\n",
       "    </tr>\n",
       "    <tr>\n",
       "      <th>3</th>\n",
       "      <td>307</td>\n",
       "      <td>307</td>\n",
       "      <td>307</td>\n",
       "    </tr>\n",
       "  </tbody>\n",
       "</table>\n",
       "<p>92 rows × 3 columns</p>\n",
       "</div>"
      ],
      "text/plain": [
       "                             building_id  geo_level_2_id  geo_level_3_id\n",
       "geo_level_1_id damage_grade                                             \n",
       "0              1                     337             337             337\n",
       "               2                    3075            3075            3075\n",
       "               3                     599             599             599\n",
       "1              1                     411             411             411\n",
       "               2                    1985            1985            1985\n",
       "...                                  ...             ...             ...\n",
       "29             2                     349             349             349\n",
       "               3                      39              39              39\n",
       "30             1                     252             252             252\n",
       "               2                    2127            2127            2127\n",
       "               3                     307             307             307\n",
       "\n",
       "[92 rows x 3 columns]"
      ]
     },
     "execution_count": 18,
     "metadata": {},
     "output_type": "execute_result"
    }
   ],
   "source": [
    "df2 = df_fmferro.loc[:,['building_id','geo_level_1_id','geo_level_2_id','geo_level_3_id','damage_grade']]\n",
    "df2.groupby(['geo_level_1_id','damage_grade']).agg('count')"
   ]
  },
  {
<<<<<<< HEAD
   "cell_type": "code",
   "execution_count": 19,
   "metadata": {},
   "outputs": [
    {
     "data": {
      "text/html": [
       "<div>\n",
       "<style scoped>\n",
       "    .dataframe tbody tr th:only-of-type {\n",
       "        vertical-align: middle;\n",
       "    }\n",
       "\n",
       "    .dataframe tbody tr th {\n",
       "        vertical-align: top;\n",
       "    }\n",
       "\n",
       "    .dataframe thead th {\n",
       "        text-align: right;\n",
       "    }\n",
       "</style>\n",
       "<table border=\"1\" class=\"dataframe\">\n",
       "  <thead>\n",
       "    <tr style=\"text-align: right;\">\n",
       "      <th></th>\n",
       "      <th>damage_grade</th>\n",
       "    </tr>\n",
       "    <tr>\n",
       "      <th>geo_level_1_id</th>\n",
       "      <th></th>\n",
       "    </tr>\n",
       "  </thead>\n",
       "  <tbody>\n",
       "    <tr>\n",
       "      <th>0</th>\n",
       "      <td>2.065320</td>\n",
       "    </tr>\n",
       "    <tr>\n",
       "      <th>1</th>\n",
       "      <td>1.960755</td>\n",
       "    </tr>\n",
       "    <tr>\n",
       "      <th>2</th>\n",
       "      <td>2.162191</td>\n",
       "    </tr>\n",
       "    <tr>\n",
       "      <th>3</th>\n",
       "      <td>2.331565</td>\n",
       "    </tr>\n",
       "    <tr>\n",
       "      <th>4</th>\n",
       "      <td>2.162136</td>\n",
       "    </tr>\n",
       "    <tr>\n",
       "      <th>5</th>\n",
       "      <td>1.919703</td>\n",
       "    </tr>\n",
       "    <tr>\n",
       "      <th>6</th>\n",
       "      <td>2.161724</td>\n",
       "    </tr>\n",
       "    <tr>\n",
       "      <th>7</th>\n",
       "      <td>2.297726</td>\n",
       "    </tr>\n",
       "    <tr>\n",
       "      <th>8</th>\n",
       "      <td>2.485273</td>\n",
       "    </tr>\n",
       "    <tr>\n",
       "      <th>9</th>\n",
       "      <td>2.026023</td>\n",
       "    </tr>\n",
       "    <tr>\n",
       "      <th>10</th>\n",
       "      <td>2.341954</td>\n",
       "    </tr>\n",
       "    <tr>\n",
       "      <th>11</th>\n",
       "      <td>2.337713</td>\n",
       "    </tr>\n",
       "    <tr>\n",
       "      <th>12</th>\n",
       "      <td>2.152160</td>\n",
       "    </tr>\n",
       "    <tr>\n",
       "      <th>13</th>\n",
       "      <td>1.937656</td>\n",
       "    </tr>\n",
       "    <tr>\n",
       "      <th>14</th>\n",
       "      <td>2.049592</td>\n",
       "    </tr>\n",
       "    <tr>\n",
       "      <th>15</th>\n",
       "      <td>2.138362</td>\n",
       "    </tr>\n",
       "    <tr>\n",
       "      <th>16</th>\n",
       "      <td>2.171745</td>\n",
       "    </tr>\n",
       "    <tr>\n",
       "      <th>17</th>\n",
       "      <td>2.794480</td>\n",
       "    </tr>\n",
       "    <tr>\n",
       "      <th>18</th>\n",
       "      <td>2.708373</td>\n",
       "    </tr>\n",
       "    <tr>\n",
       "      <th>19</th>\n",
       "      <td>2.061828</td>\n",
       "    </tr>\n",
       "    <tr>\n",
       "      <th>20</th>\n",
       "      <td>1.926464</td>\n",
       "    </tr>\n",
       "    <tr>\n",
       "      <th>21</th>\n",
       "      <td>2.563369</td>\n",
       "    </tr>\n",
       "    <tr>\n",
       "      <th>22</th>\n",
       "      <td>2.000960</td>\n",
       "    </tr>\n",
       "    <tr>\n",
       "      <th>23</th>\n",
       "      <td>2.186441</td>\n",
       "    </tr>\n",
       "    <tr>\n",
       "      <th>24</th>\n",
       "      <td>1.894656</td>\n",
       "    </tr>\n",
       "    <tr>\n",
       "      <th>25</th>\n",
       "      <td>2.054054</td>\n",
       "    </tr>\n",
       "    <tr>\n",
       "      <th>26</th>\n",
       "      <td>1.730887</td>\n",
       "    </tr>\n",
       "    <tr>\n",
       "      <th>27</th>\n",
       "      <td>2.446457</td>\n",
       "    </tr>\n",
       "    <tr>\n",
       "      <th>28</th>\n",
       "      <td>2.407547</td>\n",
       "    </tr>\n",
       "    <tr>\n",
       "      <th>29</th>\n",
       "      <td>2.078283</td>\n",
       "    </tr>\n",
       "    <tr>\n",
       "      <th>30</th>\n",
       "      <td>2.020477</td>\n",
       "    </tr>\n",
       "  </tbody>\n",
       "</table>\n",
       "</div>"
      ],
      "text/plain": [
       "                damage_grade\n",
       "geo_level_1_id              \n",
       "0                   2.065320\n",
       "1                   1.960755\n",
       "2                   2.162191\n",
       "3                   2.331565\n",
       "4                   2.162136\n",
       "5                   1.919703\n",
       "6                   2.161724\n",
       "7                   2.297726\n",
       "8                   2.485273\n",
       "9                   2.026023\n",
       "10                  2.341954\n",
       "11                  2.337713\n",
       "12                  2.152160\n",
       "13                  1.937656\n",
       "14                  2.049592\n",
       "15                  2.138362\n",
       "16                  2.171745\n",
       "17                  2.794480\n",
       "18                  2.708373\n",
       "19                  2.061828\n",
       "20                  1.926464\n",
       "21                  2.563369\n",
       "22                  2.000960\n",
       "23                  2.186441\n",
       "24                  1.894656\n",
       "25                  2.054054\n",
       "26                  1.730887\n",
       "27                  2.446457\n",
       "28                  2.407547\n",
       "29                  2.078283\n",
       "30                  2.020477"
      ]
     },
     "execution_count": 19,
     "metadata": {},
     "output_type": "execute_result"
    }
   ],
   "source": [
    "df_geo_1 = df_fmferro.loc[:,['geo_level_1_id','damage_grade']]\n",
    "df_geo_1.groupby(['geo_level_1_id']).agg('mean')"
   ]
  },
  {
=======
>>>>>>> 2ce9b0fd5241c3e462eb222d887f500ef082cfae
   "cell_type": "markdown",
   "metadata": {},
   "source": [
    "## Existen zonas mas afectadas que otras?\n",
    "Varias columnas del set de datos nos dan información sobre los materiales usados en las construcciones de las edificaciones. Esto puede ser una característica importante para determinar si un edificio sufrió un daño mayor o menor.\n",
    "\n",
    "Primer acercamiento de alto nivel."
   ]
  },
  {
   "cell_type": "code",
<<<<<<< HEAD
   "execution_count": 20,
=======
   "execution_count": 50,
>>>>>>> 2ce9b0fd5241c3e462eb222d887f500ef082cfae
   "metadata": {},
   "outputs": [
    {
     "data": {
      "text/html": [
       "<div>\n",
       "<style scoped>\n",
       "    .dataframe tbody tr th:only-of-type {\n",
       "        vertical-align: middle;\n",
       "    }\n",
       "\n",
       "    .dataframe tbody tr th {\n",
       "        vertical-align: top;\n",
       "    }\n",
       "\n",
       "    .dataframe thead th {\n",
       "        text-align: right;\n",
       "    }\n",
       "</style>\n",
       "<table border=\"1\" class=\"dataframe\">\n",
       "  <thead>\n",
       "    <tr style=\"text-align: right;\">\n",
       "      <th></th>\n",
       "      <th>damage_grade</th>\n",
       "    </tr>\n",
       "    <tr>\n",
       "      <th>geo_level_1_id</th>\n",
       "      <th></th>\n",
       "    </tr>\n",
       "  </thead>\n",
       "  <tbody>\n",
       "    <tr>\n",
       "      <th>0</th>\n",
       "      <td>2.065320</td>\n",
       "    </tr>\n",
       "    <tr>\n",
       "      <th>1</th>\n",
       "      <td>1.960755</td>\n",
       "    </tr>\n",
       "    <tr>\n",
       "      <th>2</th>\n",
       "      <td>2.162191</td>\n",
       "    </tr>\n",
       "    <tr>\n",
       "      <th>3</th>\n",
       "      <td>2.331565</td>\n",
       "    </tr>\n",
       "    <tr>\n",
       "      <th>4</th>\n",
       "      <td>2.162136</td>\n",
       "    </tr>\n",
       "  </tbody>\n",
       "</table>\n",
       "</div>"
      ],
      "text/plain": [
       "                damage_grade\n",
       "geo_level_1_id              \n",
       "0                   2.065320\n",
       "1                   1.960755\n",
       "2                   2.162191\n",
       "3                   2.331565\n",
       "4                   2.162136"
      ]
     },
<<<<<<< HEAD
     "execution_count": 20,
=======
     "execution_count": 50,
>>>>>>> 2ce9b0fd5241c3e462eb222d887f500ef082cfae
     "metadata": {},
     "output_type": "execute_result"
    }
   ],
   "source": [
    "df_geo_1 = df_fmferro.loc[:,['geo_level_1_id','damage_grade']]\n",
    "df_geo_1 = df_geo_1.groupby(['geo_level_1_id']).agg('mean')\n",
    "df_geo_1.head()"
   ]
  },
  {
   "cell_type": "markdown",
   "metadata": {},
   "source": [
    "## Existe relacion entre el material de construcción y el daño?\n",
    "A continuación mostramos algunos datos que nos hacen pensar que existe una relación directa entre el tipo de material de las superestructuras y los daños recibidos. \n",
    "\n",
    "Habiendo una tendencia a recibir daños por encima de la media para contrucciones de adobe y barro. Y por debajo para edificaciones mas resistentes como concreto o ladrillo. "
   ]
  },
  {
   "cell_type": "code",
   "execution_count": 21,
   "metadata": {},
   "outputs": [
    {
     "data": {
      "text/plain": [
       "23101"
      ]
     },
     "execution_count": 21,
     "metadata": {},
     "output_type": "execute_result"
    }
   ],
   "source": [
    "# Cantidad de edificaciones construidas con adobe\n",
    "\n",
    "has_superstructure_adobe_mud =\\\n",
    "    df[(df[\"has_superstructure_adobe_mud\"] == 1)]\n",
    "\n",
    "len(has_superstructure_adobe_mud)"
   ]
  },
  {
   "cell_type": "code",
<<<<<<< HEAD
   "execution_count": 25,
=======
   "execution_count": 22,
>>>>>>> 2ce9b0fd5241c3e462eb222d887f500ef082cfae
   "metadata": {},
   "outputs": [
    {
     "data": {
      "text/plain": [
       "Text(0, 0.5, 'Cantidad')"
      ]
     },
<<<<<<< HEAD
     "execution_count": 25,
=======
     "execution_count": 22,
>>>>>>> 2ce9b0fd5241c3e462eb222d887f500ef082cfae
     "metadata": {},
     "output_type": "execute_result"
    },
    {
     "data": {
      "image/png": "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\n",
      "text/plain": [
       "<Figure size 432x288 with 1 Axes>"
      ]
     },
     "metadata": {
      "needs_background": "light"
     },
     "output_type": "display_data"
    }
   ],
   "source": [
    "ax = sns.countplot(data=has_superstructure_adobe_mud, x=\"damage_grade\", palette=DAMAGE_COLOR_PALETTE)\n",
    "ax.set_title(\"Cantidad de edificaciones por nivel de daño, para edificaciones construidas en adobe\")\n",
    "ax.set_xlabel(\"Nivel de daño\")\n",
    "ax.set_ylabel(\"Cantidad\")"
   ]
  },
  {
   "cell_type": "markdown",
   "metadata": {},
   "source": [
    "Vemos una tendencia de las edificaciones construidas en adobe a estar por arriba del promedio de daño. Por lo que podría haber una relacion entre el daño y este material a simple vista."
   ]
  },
  {
   "cell_type": "markdown",
   "metadata": {},
   "source": [
    "Saquemos un promedio del daño ocacionado a las estructuras de adobe."
   ]
  },
  {
   "cell_type": "code",
   "execution_count": 23,
   "metadata": {},
   "outputs": [],
   "source": [
    "df[(df[\"has_superstructure_adobe_mud\"] == 1)]['damage_grade'].mean()\n",
<<<<<<< HEAD
    "df_superestructure_adobe =df[(df[\"has_superstructure_adobe_mud\"] == 1)]['damage_grade'].mean()"
   ]
  },
  {
   "cell_type": "markdown",
   "metadata": {},
   "source": [
    "Media de daño recibido para las superestructuras de adobe."
=======
    "df_superestructure =df[(df[\"has_superstructure_adobe_mud\"] == 1)]['damage_grade'].mean()"
>>>>>>> 2ce9b0fd5241c3e462eb222d887f500ef082cfae
   ]
  },
  {
   "cell_type": "code",
<<<<<<< HEAD
   "execution_count": 27,
=======
   "execution_count": 24,
>>>>>>> 2ce9b0fd5241c3e462eb222d887f500ef082cfae
   "metadata": {},
   "outputs": [
    {
     "data": {
      "text/plain": [
       "2.3467815246093244"
      ]
     },
<<<<<<< HEAD
     "execution_count": 27,
     "metadata": {},
     "output_type": "execute_result"
    }
   ],
   "source": [
    "df_superestructure_adobe\n"
   ]
  },
  {
   "cell_type": "code",
   "execution_count": 42,
   "metadata": {},
   "outputs": [
    {
     "data": {
      "text/plain": [
       "Text(0, 0.5, 'Cantidad')"
      ]
     },
     "execution_count": 42,
     "metadata": {},
     "output_type": "execute_result"
    },
    {
     "data": {
      "image/png": "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\n",
      "text/plain": [
       "<Figure size 432x288 with 1 Axes>"
      ]
     },
     "metadata": {
      "needs_background": "light"
     },
     "output_type": "display_data"
    }
   ],
   "source": [
    "has_superstructure_mud_mortar_stone =\\\n",
    "    df[(df[\"has_superstructure_mud_mortar_stone\"] == 1)]\n",
    "ax = sns.countplot(data=has_superstructure_mud_mortar_stone, x=\"damage_grade\", palette=DAMAGE_COLOR_PALETTE)\n",
    "ax.set_title(\"Cantidad de edificaciones por nivel de daño, para edificaciones construidas en barro y piedra\")\n",
    "ax.set_xlabel(\"Nivel de daño\")\n",
    "ax.set_ylabel(\"Cantidad\")"
   ]
  },
  {
   "cell_type": "code",
   "execution_count": 33,
   "metadata": {},
   "outputs": [
    {
     "data": {
      "text/plain": [
       "2.337901199127724"
      ]
     },
     "execution_count": 33,
     "metadata": {},
     "output_type": "execute_result"
    }
   ],
   "source": [
    "df[(df[\"has_superstructure_mud_mortar_stone\"] == 1)]['damage_grade'].mean()\n",
    "df_superestructure_mud_stone =df[(df[\"has_superstructure_mud_mortar_stone\"] == 1)]['damage_grade'].mean()\n",
    "df_superestructure_mud_stone"
   ]
  },
  {
   "cell_type": "code",
   "execution_count": 34,
   "metadata": {},
   "outputs": [
    {
     "data": {
      "text/plain": [
       "Text(0, 0.5, 'Cantidad')"
      ]
     },
     "execution_count": 34,
     "metadata": {},
     "output_type": "execute_result"
    },
    {
     "data": {
      "image/png": "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\n",
      "text/plain": [
       "<Figure size 432x288 with 1 Axes>"
      ]
     },
     "metadata": {
      "needs_background": "light"
     },
     "output_type": "display_data"
    }
   ],
   "source": [
    "has_superstructure_stone_flag =\\\n",
    "    df[(df[\"has_superstructure_stone_flag\"] == 1)]\n",
    "ax = sns.countplot(data=has_superstructure_adobe_mud, x=\"damage_grade\", palette=DAMAGE_COLOR_PALETTE)\n",
    "ax.set_title(\"Cantidad de edificaciones por nivel de daño, para edificaciones construidas solo en piedra\")\n",
    "ax.set_xlabel(\"Nivel de daño\")\n",
    "ax.set_ylabel(\"Cantidad\")"
   ]
  },
  {
   "cell_type": "code",
   "execution_count": 35,
   "metadata": {},
   "outputs": [
    {
     "data": {
      "text/plain": [
       "2.4525539286911813"
      ]
     },
     "execution_count": 35,
     "metadata": {},
     "output_type": "execute_result"
    }
   ],
   "source": [
    "df[(df[\"has_superstructure_stone_flag\"] == 1)]['damage_grade'].mean()\n",
    "has_superstructure_stone_flag =df[(df[\"has_superstructure_stone_flag\"] == 1)]['damage_grade'].mean()\n",
    "has_superstructure_stone_flag\n",
    "\n"
   ]
  },
  {
   "cell_type": "code",
   "execution_count": 41,
   "metadata": {},
   "outputs": [
    {
     "data": {
      "text/plain": [
       "Text(0, 0.5, 'Cantidad')"
      ]
     },
     "execution_count": 41,
     "metadata": {},
     "output_type": "execute_result"
    },
    {
     "data": {
      "image/png": "iVBORw0KGgoAAAANSUhEUgAAAl0AAAEWCAYAAABc9SIZAAAAOXRFWHRTb2Z0d2FyZQBNYXRwbG90bGliIHZlcnNpb24zLjMuNCwgaHR0cHM6Ly9tYXRwbG90bGliLm9yZy8QVMy6AAAACXBIWXMAAAsTAAALEwEAmpwYAAAobklEQVR4nO3debglVXnv8e+PQWgRBKQlQDc0URyAKAoiKok4BZwCGr1iUCAOqBfjEJwziIncmAFjnCWK4IDYigNXJUgURSMKDUERkGsraLcgNDPGiILv/aPWCdWHfYaeandzvp/n2c+pWlWralXVWlXvXlW1T6oKSZIkrVsbjbsAkiRJc4FBlyRJ0gAMuiRJkgZg0CVJkjQAgy5JkqQBGHRJkiQNYL0LupK8P8lfTTO9ktx/NZd9ZZInznLeI5N8c3XWs4plWtS2aZM2fkaSI3rT35rkuiQ/T7Jzkl8k2XgdleX3k1y+Lpa9IWr7+nfXcBkrHd9ZzH9SkreuyTp7y/pakhetwvzvTnJJkgVJzlobZdiQJDkgyfLe+CVJDmjDSfLhJDcmOW9dt5UkhyX58rpa/lww0z5c1fahDc+atNPJ54O1ZbYXgj8B/hx4EHArcBFwXFWtUVCS5EjgRVW1/0RaVb10TZa5oauqJ08MJ1kIHAPsUlXXtuR7rcN1fwN44Lpa/oamqtbZvl5PbQ8cBiwG/nXMZRm7qtqjN7o/8CRgQVX9V0tbZ22lqj4OfHxdLX99l+RrwMeq6oOru4y5vg/HaW0cv7VhfbymzRh0Jflz4A3AS4EzgV8DBwEHA+u8J2iO2wW4vhdwaTUl2aSqbh93OdZnVfXsNvjosRZkCmM+hrsAV/YCLo2R7VnjtEb1r6qm/AD3Bn4BPHuaefYFzgVuAq4G3g3coze96AK2HwI3Au8BAjwY+BVwR1vHTW3+k4C39vK/ti33KuAFbXn3b9OeCvwncAuwDDh2UtmeD/wEuB74C+BK4IlTbMd9gNPbss4D/hb4Zm/6g4CzgBuAy4H/NcN++1Ar98+AtwIbt2kbA/8EXAf8GDi6bdMmbfrXgBcBTwT+G/ht2z8nAYsmzbst8OG2b24EPtfStwG+AKxo6V+g+4bODPkOAJb35ntwK89NwCXAH/WmndSO5Rfpej+/A9xvNvsLeApwacv3M+A1U+zHI4H/AN4F3Az8AHhCb/qO7ZjdACwFXtybdizwaeBj7Zi+aMTyZ9qGAu4P7Af8fOIYtmnPAL7Xhjei+2LyI7q6thjYtk1b6ZiNKMPDgAvb+j8JnMrK9f9pdD3LNwHfAh4yTb17UttHN9O1w69PbDdwP+CrrXzX0fUAbN3LeyXwGuB7Lf8ngc1701/c9vENbZ/vON25YxWO4Z8Cl7Xt/zHwkt60A4DlwOvb/v8oM9TtEevfETitzX8F8IretHmtDtxIVx9fy8r1/0q6dvhCVj5XvYW7tpWFwGfaeq4H3j3L/T5VviNZ+fzzaOD8tg/PBx7dm/Y1uvPVf7T9+GVgu970/VrduQn4LnDApOPz45bvCuCwKfbjxsCb6Or4rcAFwMI1KRuwOV37vL6V7Xy63tbj2r7+VdvfE/uk6M6XP2xlXcSkttXW96Ip9uGatI/X052rbqU7nz1hiv00Dzie7rpzM13HxLw27Y/ozqM3tXI+eLbtb8R6Xsyd7eZS4OGzqO/HAp9q+/xW4GLgAcAbgWvprqF/OMvr2JFt2/6Jrv1cATy5TZvq+E1ZTyZt22uB0yalvQt4xxTzX9m24dJWlg9P7Dvu2k7X9Hzw+naMbqPrtJo4708ch2fMeE6c4YR5EHA7U1ww2jx70zXqTegawWXAq3rTi+7EuDWwc9vYg0Y1ipZ2Eu2i09Z/DbAnsAVwCisHXQcAv0d30XtIm/eQNm33dsD/ANgMeHvblqmCrlPpLpZbtPX9bKJsLW0Z3QViE+DhdA1zjymW9TngAy3ffemCuJe0aS+la/gL6YKfsxkRdE1RYRZNmveLdI1zG2BT4LEt/T7AHwP3BLaka2if6y1nqnz/s76WvpTuRHsP4PGtYj2wd5xuoAu6N6E7SZ06m/1F14h/vw1vQzthjNiPR7Zj9upWnufQNdiJgObrwHvpTt570dWtJ/ROML8BDqGrH/NGLH/KbejV3Ym69iPgSb1pnwLe0IZfBXwbWEBX1z4AfGLUMZu0/nvQnZwntu9ZrcwT9f/hdCfDR9Jd9I6ga/ibjVjWdnTB5bPasl7d9t1EXbo/3UVnM2A+cA69k1hb7nl0J6Vt6drxS9u0x7fj9/CW/13AOTOdXGZ5DJ9Kd8EL8Fjgl9x5ATmg5f37tt55zFC3J617I7rg4K/bvv5dugDjwDb9bcA32vYuBL7PiKBr1LmKldvKxnTBzD/T1f3Ngf1n2u8z5Puf9bXy3Uj3JXIT4Llt/D69c8aP6C6g89r429q0negCiae0/fGkNj6/rfMW7mzTOzD1Oe21dBfpB7Zj9dB2LNakbC8B/m87lhvTXUu2mnwenNQez2rrnMcqBF2sQfto27yM9kWjrfd+U+yn97Qy7NS26dFtmQ8A/qutY1PgdXTn13vM1P5GrOPZdNenR7RjcX+6ntiZ6vuxdIHQge1YfYQu8PiLVqYXA1fM8jp2JN256sVtO19G9yU+o44fM9STSdu3Q9tXW7fxTejOg3tPsT+upGu7E9fU/+DOc+gB3NlO18b54KI2bV7vWOzYlv2cVu4dpj0nznDCPAz4+WxOrr08rwI+O6mh7N8bX8ydF6sjmT7oOpHWQNv4A+hdCEes+x3AP7fhv2blC+gWdLdG7xJ0tUrzG+BBvbT/w50N9jnANybl+QDw5hHL2p4uCp7XS3sucHYb/iq9xgT8IasRdLWK+Vtgm1kck72AG3sVemS+SRX09+l6FzbqTf8ErTexHacP9qY9BfjBbPYX8FO6E+5WM5T7SHoNuaWdR9dwF9J9m9qyN+3vgJPqzhPMtIHBdNvQq7sTQddbgRPb8JZ0jWuXNn4ZK/fe7NDq08QXkamCrj8YsX3f4s76/z7gbyfluZwWJE9KPxz4dm88dL1Ed+nha9MPAf6zN34l8Lze+D8A72/DHwL+oTftXm37Fs2i7k15DKeY/3PAK3v18ddM/41/L1rdHjHtkcBPJ6W9EfhwG/4x7QtgGz+K1Qu6HkUX8E/55XTUfp8uHysHDM8Hzps0/VzgyDb8NeAve9P+N/Bvbfj1wEcn5T2TLoDfgq7X5Y8Z8aVkRL07eET6mpTtBUzRe8vUQdfje+OLmH3Qtdrtgy6ouZau13PTafbRRnR3Jx46YtpfAYsnzfszWq8j07S/Ecs6k9ZGVrG+Hwuc1Zv2dLqOiYneqy3b/tyama9jRwJLe9Pu2fL+zqjjN1M9GbEtZ9DuXND19l86zX6/kpWvqU8BfjSina6N88ELZmgnFzGinfQ/M729eD2w3XRvXiV5QJIvtLfrbqELVrabNNvPe8O/ZPYPg+9I9w1jwk8mrfuRSc5OsiLJzXS9SNuNylvdsxjXT7Ge+XQXyKnWtQvwyCQ3TXzoAtLfGbGsXei+NVzdm/cDdN8UZtymVbAQuKGqbpw8Ick9k3wgyU/aMTkH2Lq99Thlvkl2BJZV1W8nlXWn3vhUx3Wm/fXHdA3jJ0m+nuRR05TjZ9Vqc68MO7bPDVV16zTl6+/nqcy2bp4CPDPJZsAzgQurauLY7QJ8tretl9EFhNvPsO4dGb19E3YBjpm0Hxe2fKOW1a/v1R9Pct8kpyb5WasTH2P27XTHfrmq6hd0bam/r6cz1TEkyZOTfDvJDW37njKpXCuq6le97Ziubk+2C7DjpP33Ju48LmuzLf6kRjzjMcN+nzLfJCvt/15ZZ9sWnz1pH+xP9238v+i+IL2U7nz1xSQPmmYbf7SWy/ZRugDi1CRXJfmHJJtOsf4Js2nTo6x2+6iqpXSdCccC17b5RrXB7eh6K2fcT+28uozZ7afJpjoWM9V36O4GTfhv4LqquqM3TlvvTNexlcpbVb/s5R1lNvWk72TgeW34eXR1ZTqT2/Go47M2zgcr1b8khye5qLe8PbnreXUlMwVd59J1Rx4yzTzvo7tdtltVbUW3EZlhuRNqhulX01WwCTtPmn4K3fMlC6vq3sD7e+teKW+Se9J1h4+ygq6reap1LQO+XlVb9z73qqqXjVjWMrpvCNv15t2q7nwTaqZtmq1lwLZJth4x7Ri6LvFHtmPyBy09M+TruwpYmKRfR3am+3Y2m7JNub+q6vyqOpiuAX+OrvdzKjsl6dennVvZrmrbseU05Zupfs1aVV1K1wifDPwJXd2bsIzueYb+9m5eVTPtq6sZvX395R43abn3rKpPTLGsfn0PK9ezv6PbHw9pdeJ5zL6dXkV3wppY9hZ0bWk2dQGmOIYtgD2N7rmQ7atqa+BLk8o1+RhOV7cnW0Z3u6S//7asqqe06WuzLe48xZfT6fb7dPn6Vtr/vbLOti1+dNI+2KKq3gZQVWdW1ZPoemd/wNRvrS6juw281spWVb+pqrdU1e50t+GeRtcjBVO33X76xEsN9+yljfoiDGvYPqrqlOrest+lzff3I9ZxHd31csb91Fv/bNtQ31THYqb6vqrrmO46NpPJx29V68nngIck2ZOuXsz0FurkdnzViHnWxvngf7YryS507eXldLdJt6a7JTnteXXaoKuqbqa7TfeeJIe0b5mbtm+n/9Bm25LuXvkv2rekUYHIVK4BFiS5xxTTFwNHJtm9BU1vnjR9S7rejl8l2ZfuYjjh08DTkuzflv83U21vi/Q/AxzbtnF3uu73CV8AHpDk+W37N03yiCQPHrGsq+keFj0+yVZJNkpyvySP7W3TK9L9FtI2dA/irbK2njOA9ybZppVp4gK0Jd23lpuSbEtvv82Qr+87dCe117V5DqDrjj51FsWbcn8luUe638+5d1X9hq7u3DHNsu5Lt782TfJsuof7v1RVy+huTfxdks2TPITuged1+Yr4KcAr6C70n+qlvx84rjVCksxPcvAslncuXbD/iiSbJHkm3fNlE/4VeGm6Ht0k2SLJUycFmhO+COyR5JntIv4KVr4AbUl7YSXJTnTP6MzWKcCfJtmrBUr/B/hOVV3ZtvdrSY6dJv/IY0j3XMVmtC89SZ5Md7t9OlPW7RHOA25J8vok85JsnGTPJI9o0xcDb2ztYAHwZzOse7r1XA28rR2jzZM8plfeqfb7dPn6vkTXnv6k1ZPn0D2z+oVZlO1jwNOTHNi2f/N0vz+0IMn2Sf6oBdG3tXJO1RY/CPxtkt1aXXxIkvusSdmSPC7J76XrpbyF7pb1xPqvoXvmZkpVtYLuov28tm0vYHQwAmvQPpI8MMnjW93/FV39u8t+ar1XJwJvT7JjK9OjWr7FwFOTPCFdb94xdPv8W9Nt4xQ+CLwmyd7tWNy/nXtmqu+zNovr2EwmH79Vqietd/vTdOee86rqpzOs7+hWp7el6/j55Ih51vb5YAu6IGwFQJI/pevpmtaMP45aVW+n+42uv2wLX0YX2X2uzfIaumDnVrqLxKiNncpX6d7m+HmS60as+wy657S+SvfQ4VcnzfK/gb9JcitdcLi4l/cSujddTqE7sd1Idw9/Ki+n6xr9Od2zPh/uLetWuovBoXQR9M+58+HeUQ6nu6BMvE3xabpvktDtozPpHqC9kC7YW13PpztR/YDumYNXtfR30D1oeh3dA97/Nst8/6Oqfk33ts2T23LeCxxeVT+YqVCz2F/PB65M143/Uu7sRh7lO8BurQzHAc+qqonbxM+le67jKuCzdM+Mrcsf9fwE3TMCX62qfn39F7oe1y+3uvhtuucHptX28TPpno+4ke5Wz2d605fQPaj67jZ9aZt31LKuo3uo8210t/52o3ugdMJb6B6Ev5nuAjTreldVX6F7JuU0urZ0P7pjO2HhpHVNNvIYtnryCrp2eyPdeeT0GYrzDqav2/1y30H3RWEvugeGr6O7YN27zfIWut7LK+guMDPdwphpPfene15xOd2xnFjHyP0+Q77+8q+n+7Z/DN2xfR3wtEl1cKqyLaP7eZ83cef5+7V05/6N2jKvonuh5LF059RR3k53nL5MFyB9iO55n9UuG13Q8+m2vMvoXoz5WJv2L8Cz0v0Y7TunWcaL2/ZcD+zBFEHMGraPzVq+6+jOZfel25+jvIbuhYPz6fbp39M9F3s53XnuXW05Twee3s4Bq6SqPkXXjk6hu+5+ju7FlJnq+6qa7jo2k5WO32rWk5PpXpSbTbs8ha5u/rh97vID02v7fNDufhxP9+X5mlbW6c6DwJ1vGkjrnYz48VytX9o3wk9V1cjn8jyGklZHkp3pOgZ+p6pumWa+K+nOMf8+VNnWxKx+kV6SRqmq5XRv4UnSWpHuWeI/p/sFgikDrg2RQZckSVovtGcMr6G71XfQmIuz1nl7UZIkaQAzPkgvSZKkNeftRU1ru+22q0WLFo27GJK0wbjggguuq6r54y6H1j8GXZrWokWLWLJkybiLIUkbjCSr+98NdDfn7UVJkqQBGHRJkiQNwKBLkiRpAAZdkiRJAzDokiRJGoBBlyRJ0gAMuiRJkgZg0CVJkjQAgy5JkqQB+Iv0krjua8eMuwhzwnYHHD/uIkgaI3u6JEmSBmDQJUmSNACDLkmSpAEYdEmSJA3AoEuSJGkABl2SJEkDMOiSJEkagEGXJEnSAAy6JEmSBmDQJUmSNACDLkmSpAEYdK3nkmye5Lwk301ySZK3tPRtk5yV5Ift7za9PG9MsjTJ5UkO7KXvneTiNu2dSTKObZIkaS4y6Fr/3QY8vqoeCuwFHJRkP+ANwFeqajfgK22cJLsDhwJ7AAcB702ycVvW+4CjgN3a56ABt0OSpDnNoGs9V51ftNFN26eAg4GTW/rJwCFt+GDg1Kq6raquAJYC+ybZAdiqqs6tqgI+0ssjSZLWMYOuDUCSjZNcBFwLnFVV3wG2r6qrAdrf+7bZdwKW9bIvb2k7teHJ6ZIkaQAGXRuAqrqjqvYCFtD1Wu05zeyjntOqadLvuoDkqCRLkixZsWLFKpdXkiTdlUHXBqSqbgK+Rvcs1jXtliHt77VttuXAwl62BcBVLX3BiPRR6zmhqvapqn3mz5+/NjdBkqQ5y6BrPZdkfpKt2/A84InAD4DTgSPabEcAn2/DpwOHJtksya50D8yf125B3ppkv/bW4uG9PJIkaR3bZNwF0Ix2AE5ubyBuBCyuqi8kORdYnOSFwE+BZwNU1SVJFgOXArcDR1fVHW1ZLwNOAuYBZ7SPJEkagEHXeq6qvgc8bET69cATpshzHHDciPQlwHTPg0mSpHXE24uSJEkDMOiSJEkagEGXJEnSAAy6JEmSBmDQJUmSNACDLkmSpAEYdEmSJA3AoEuSJGkABl2SJEkDMOiSJEkagEGXJEnSAAy6JEmSBmDQJUmSNACDLkmSpAEYdEmSJA3AoEuSJGkABl2SJEkDMOiSJEkagEGXJEnSAAy6JEmSBmDQJUmSNACDLkmSpAEYdEmSJA3AoGs9l2RhkrOTXJbkkiSvbOnHJvlZkova5ym9PG9MsjTJ5UkO7KXvneTiNu2dSTKObZIkaS7aZNwF0IxuB46pqguTbAlckOSsNu2fq+qf+jMn2R04FNgD2BH49yQPqKo7gPcBRwHfBr4EHAScMdB2SJI0p9nTtZ6rqqur6sI2fCtwGbDTNFkOBk6tqtuq6gpgKbBvkh2Ararq3Koq4CPAIeu29JIkaYJB1wYkySLgYcB3WtLLk3wvyYlJtmlpOwHLetmWt7Sd2vDk9FHrOSrJkiRLVqxYsTY3QZKkOcugawOR5F7AacCrquoWuluF9wP2Aq4Gjp+YdUT2mib9rolVJ1TVPlW1z/z589e06JIkCYOuDUKSTekCro9X1WcAquqaqrqjqn4L/Cuwb5t9ObCwl30BcFVLXzAiXZIkDcCgaz3X3jD8EHBZVb29l75Db7ZnAN9vw6cDhybZLMmuwG7AeVV1NXBrkv3aMg8HPj/IRkiSJN9e3AA8Bng+cHGSi1ram4DnJtmL7hbhlcBLAKrqkiSLgUvp3nw8ur25CPAy4CRgHt1bi765KEnSQAy61nNV9U1GP4/1pWnyHAccNyJ9CbDn2iudJEmaLW8vSpIkDcCgS5IkaQAGXZIkSQMw6JIkSRqAQZckSdIADLokSZIGYNAlSZI0AIMuSZKkARh0SZIkDcCgS5IkaQAGXZIkSQMw6JIkSRqAQZckSdIADLokSZIGYNAlSZI0AIMuSZKkARh0SZIkDcCgS5IkaQAGXZIkSQMw6JIkSRqAQZckSdIADLokSZIGYNAlSZI0AIOu9VyShUnOTnJZkkuSvLKlb5vkrCQ/bH+36eV5Y5KlSS5PcmAvfe8kF7dp70yScWyTJElzkUHX+u924JiqejCwH3B0kt2BNwBfqardgK+0cdq0Q4E9gIOA9ybZuC3rfcBRwG7tc9CQGyJJ0lxm0DWA1is15We6vFV1dVVd2IZvBS4DdgIOBk5us50MHNKGDwZOrarbquoKYCmwb5IdgK2q6tyqKuAjvTySJGkd22TcBZgjLgAKCLAzcGMb3hr4KbDrbBaSZBHwMOA7wPZVdTV0gVmS+7bZdgK+3cu2vKX9pg1PTh+1nqPoesTYeeedZ1M0SZI0A3u6BlBVu1bV7wJnAk+vqu2q6j7A04DPzGYZSe4FnAa8qqpumW7WUUWYJn1UeU+oqn2qap/58+fPpniSJGkGBl3DekRVfWlipKrOAB47U6Ykm9IFXB+vqokg7Zp2y5D299qWvhxY2Mu+ALiqpS8YkS5JkgZg0DWs65L8ZZJFSXZJ8hfA9dNlaG8Yfgi4rKre3pt0OnBEGz4C+Hwv/dAkmyXZle6B+fParchbk+zXlnl4L48kSVrHfKZrWM8F3gx8to2f09Km8xjg+cDFSS5qaW8C3gYsTvJCuufCng1QVZckWQxcSvfm49FVdUfL9zLgJGAecEb7SJKkARh0DaiqbgBeuYp5vsno57EAnjBFnuOA40akLwH2XJX1S5KktcOga0BJ5gOvo/sNrc0n0qvq8WMrlCRJGoTPdA3r48AP6H4i4i3AlcD54yyQJEkahkHXsO5TVR8CflNVX6+qF9D9yrwkSbqb8/bisH7T/l6d5Kl0P9mwYJr5JUnS3YRB17DemuTewDHAu4CtgFePt0iSJGkIBl0DqqovtMGbgceNsyySJGlYBl0DSPIupviXOwBV9YoBiyNJksbAB+mHsYTun15vDjwc+GH77AXcMXU2SZJ0d2FP1wCq6mSAJEcCj6uq37Tx9wNfHmPRJEnSQOzpGtaOwJa98Xu1NEmSdDdnT9ew3gb8Z5Kz2/hjgWPHVxxJkjQUg64BVdWHk5wBPLIlvaGqfj7OMkmSpGF4e3EASR7U/j6c7nbisvbZsaVJkqS7OXu6hvHnwFHA8SOmFeA/vJYk6W7OoGsAVXVUG3xyVf2qPy3J5mMokiRJGpi3F4f1rVmmSZKkuxl7ugaQ5HeAnYB5SR4GpE3aCrjn2AomSZIGY9A1jAOBI4EFwNt76bcCbxpHgSRJ0rAMugbQfpH+5CR/XFWnjbs8kiRpeAZdw/pCkj8BFtHb91X1N2MrkSRJGoRB17A+D9xM98+vbxtzWSRJ0oAMuoa1oKoOGnchJEnS8PzJiGF9K8nvjbsQkiRpeAZdw9ofuCDJ5Um+l+TiJN+bLkOSE5Ncm+T7vbRjk/wsyUXt85TetDcmWdrWcWAvfe+2vqVJ3pkkk9clSZLWHW8vDuvJq5HnJODdwEcmpf9zVf1TPyHJ7sChwB50/+Px35M8oKruAN5H96+Ivg18CTgIOGM1yiNJklaDPV0DqqqfVNVPgP+m+5+LE5/p8pwD3DDLVRwMnFpVt1XVFcBSYN8kOwBbVdW5VVV0Adwhq7kZkiRpNRh0DSjJHyX5IXAF8HXgSla/t+nl7RbliUm2aWk7Act68yxvaTu14cnpU5XzqCRLkixZsWLFahZPkiT1GXQN62+B/YD/V1W7Ak8A/mM1lvM+4H7AXsDVwPEtfdRzWjVN+khVdUJV7VNV+8yfP381iidJkiYz6BrWb6rqemCjJBtV1dl0gdMqqaprquqOqvot8K/Avm3ScmBhb9YFwFUtfcGIdEmSNBCDrmHdlORewDnAx5P8C3D7qi6kPaM14RnAxJuNpwOHJtksya7AbsB5VXU1cGuS/dpbi4fT/VCrJEkaiG8vDiDJ/YHt6R50/2/g1cBhwC7An82Q9xPAAcB2SZYDbwYOSLIX3S3CK4GXAFTVJUkWA5fSBXNHtzcXAV5G9ybkPLrnyHxzUZKkARl0DeMdwJuq6r/a+G/p/gH2PsCxwNOnylhVzx2R/KFp5j8OOG5E+hJgz9kXWZIkrU3eXhzGoqq6y4+gtkBo0fDFkSRJQzPoGsbm00ybN1gpJEnS2Bh0DeP8JC+enJjkhcAFYyiPJEkamM90DeNVwGeTHMadQdY+wD3o3j6UJEl3cwZdA6iqa4BHJ3kcdz7M/sWq+uoYiyVJkgZk0DWg9mOoZ4+7HJIkaXg+0yVJkjQAgy5JkqQBGHRJkiQNwKBLkiRpAAZdkiRJAzDokiRJGoBBlyRJ0gAMuiRJkgZg0CVJkjQAgy5JkqQBGHRJkiQNwKBLkiRpAAZdkiRJAzDokiRJGoBBlyRJ0gAMuiRJkgZg0CVJkjQAg671XJITk1yb5Pu9tG2TnJXkh+3vNr1pb0yyNMnlSQ7spe+d5OI27Z1JMvS2SJI0lxl0rf9OAg6alPYG4CtVtRvwlTZOkt2BQ4E9Wp73Jtm45XkfcBSwW/tMXqYkSVqHDLrWc1V1DnDDpOSDgZPb8MnAIb30U6vqtqq6AlgK7JtkB2Crqjq3qgr4SC+PJEkagEHXhmn7qroaoP29b0vfCVjWm295S9upDU9OHynJUUmWJFmyYsWKtVpwSZLmKoOuu5dRz2nVNOkjVdUJVbVPVe0zf/78tVY4SZLmMoOuDdM17ZYh7e+1LX05sLA33wLgqpa+YES6JEkaiEHXhul04Ig2fATw+V76oUk2S7Ir3QPz57VbkLcm2a+9tXh4L48kSRrAJuMugKaX5BPAAcB2SZYDbwbeBixO8kLgp8CzAarqkiSLgUuB24Gjq+qOtqiX0b0JOQ84o30kSdJADLrWc1X13CkmPWGK+Y8DjhuRvgTYcy0WTZIkrQJvL0qSJA3AoEuSJGkABl2SJEkDMOiSJEkagEGXJEnSAHx7UWvNdT89ZtxFuNvbbufjx10ESdJqsqdLkiRpAAZdkiRJAzDokiRJGoBBlyRJ0gAMuiRJkgZg0CVJkjQAgy5JkqQBGHRJkiQNwKBLkiRpAP4ivSRt4K47xv8Gsa5td7z/DUJrzp4uSZKkARh0SZIkDcCgS5IkaQAGXZIkSQMw6JIkSRqAQZckSdIADLokSZIGYNC1AUtyZZKLk1yUZElL2zbJWUl+2P5u05v/jUmWJrk8yYHjK7kkSXOPQdeG73FVtVdV7dPG3wB8pap2A77SxkmyO3AosAdwEPDeJBuPo8CSJM1FBl13PwcDJ7fhk4FDeumnVtVtVXUFsBTYd/jiSZI0Nxl0bdgK+HKSC5Ic1dK2r6qrAdrf+7b0nYBlvbzLW9pdJDkqyZIkS1asWLGOii5J0tzi/17csD2mqq5Kcl/grCQ/mGbejEirUTNW1QnACQD77LPPyHkkSdKqsadrA1ZVV7W/1wKfpbtdeE2SHQDa32vb7MuBhb3sC4CrhiutJElzm0HXBirJFkm2nBgG/hD4PnA6cESb7Qjg8234dODQJJsl2RXYDThv2FJLkjR3eXtxw7U98Nkk0B3HU6rq35KcDyxO8kLgp8CzAarqkiSLgUuB24Gjq+qO8RRdkqS5x6BrA1VVPwYeOiL9euAJU+Q5DjhuHRdNkiSN4O1FSZKkARh0SZIkDcCgS5IkaQAGXZIkSQMw6JIkSRqAQZckSdIADLokSZIGYNAlSZI0AIMuSZKkARh0SZIkDcCgS5IkaQAGXZIkSQMw6JIkSRqAQZckSdIADLokSZIGYNAlSZI0AIMuSZKkARh0SZIkDcCgS5IkaQAGXZIkSQMw6JIkSRqAQZckSdIADLokSZIGYNA1xyQ5KMnlSZYmecO4yyNJ0lxh0DWHJNkYeA/wZGB34LlJdh9vqSRJmhsMuuaWfYGlVfXjqvo1cCpw8JjLJEnSnJCqGncZNJAkzwIOqqoXtfHnA4+sqpdPmu8o4Kg2+kDg8kELOpztgOvGXQitNo/fhu3ufPx2qar54y6E1j+bjLsAGlRGpN0l6q6qE4AT1n1xxivJkqraZ9zl0Orx+G3YPH6ai7y9OLcsBxb2xhcAV42pLJIkzSkGXXPL+cBuSXZNcg/gUOD0MZdJkqQ5wduLc0hV3Z7k5cCZwMbAiVV1yZiLNU53+1uod3Mevw2bx09zjg/SS5IkDcDbi5IkSQMw6JIkSRqAQZfmnCQnJrk2yffHXRatuiQLk5yd5LIklyR55bjLpNlJsnmS85J8tx27t4y7TNKQfKZLc06SPwB+AXykqvYcd3m0apLsAOxQVRcm2RK4ADikqi4dc9E0gyQBtqiqXyTZFPgm8Mqq+vaYiyYNwp4uzTlVdQ5ww7jLodVTVVdX1YVt+FbgMmCn8ZZKs1GdX7TRTdvHb/6aMwy6JG2wkiwCHgZ8Z8xF0Swl2TjJRcC1wFlV5bHTnGHQJWmDlORewGnAq6rqlnGXR7NTVXdU1V50/xFj3yTe4tecYdAlaYPTngc6Dfh4VX1m3OXRqquqm4CvAQeNtyTScAy6JG1Q2sPYHwIuq6q3j7s8mr0k85Ns3YbnAU8EfjDWQkkDMujSnJPkE8C5wAOTLE/ywnGXSavkMcDzgccnuah9njLuQmlWdgDOTvI9uv8Fe1ZVfWHMZZIG409GSJIkDcCeLkmSpAEYdEmSJA3AoEuSJGkABl2SJEkDMOiSJEkagEGXpFWWpJIc3xt/TZJj2/BLkxy+mss9KcmzZphnUZLvr87yW/5jk7xmFvP9TZJzkyxOssvqrk+SJmwy7gJI2iDdBjwzyd9V1XX9CVX1/jGVaa2qqr8G/nrc5ZB092FPl6TVcTtwAvDqyRMmepKSPDjJeb30Re1HMUmyd5KvJ7kgyZlJdphuZW3+7yY5Fzi6l75xkn9Mcn6S7yV5yRT5/yLJ5Un+HXhgL/3FLe93k5yW5J4t/aQk70zyrSQ/nuh9S+cfk3w/ycVJnrMqO03S3GbQJWl1vQc4LMm9R02sqsuAeyT53Zb0HGBx+7+J7wKeVVV7AycCx82wrg8Dr6iqR01KfyFwc1U9AngE8OIku/ZnSLI3cCjwMOCZbb4Jn6mqR1TVQ4HL2vIm7ADsDzwNeFtLeyawF/BQun9h848zBYySNMGgS9JqqapbgI8Ar5hmtsXA/2rDzwE+SdfTtCdwVpKLgL8EFky1gBbUbV1VX29JH+1N/kPg8Lac7wD3AXabtIjfBz5bVb9sZT69N23PJN9IcjFwGLBHb9rnquq3VXUpsH1L2x/4RFXdUVXXAF9n5SBOkqbkM12S1sQ7gAvpeqJG+STwqSSfAaqqfpjk94BLRvRaTSXAVP+vLMCfVdWZMyxjqvwnAYdU1XeTHAkc0Jt226T19P9K0iqzp0vSaquqG+h6s0b+0/Cq+hFwB/BXdAEYwOXA/CSPAkiyaZI9RuVvy7gJuDnJ/i3psN7kM4GXtVuWJHlAki0mLeIc4BlJ5iXZEnh6b9qWwNUt/2HM7BzgOe1ZsvnAHwDnzZBHkgB7uiStueOBl08z/ZPAPwK7AlTVr9uD6e9stw43oesxu2SaZfwpcGKSX9IFWhM+CCwCLkwSYAVwSD9jVV2Y5JPARcBPgG/0Jv8V3W3JnwAX0wVh0/ks8Cjgu3S9Z6+rqp/PkEeSAEjVVL3ukiRJWlu8vShJkjQAgy5JkqQBGHRJkiQNwKBLkiRpAAZdkiRJAzDokiRJGoBBlyRJ0gD+P5AceymmupLeAAAAAElFTkSuQmCC\n",
      "text/plain": [
       "<Figure size 432x288 with 1 Axes>"
      ]
     },
     "metadata": {
      "needs_background": "light"
     },
     "output_type": "display_data"
    }
   ],
   "source": [
    "has_superstructure_cement_mortar_stone =\\\n",
    "    df[(df[\"has_superstructure_cement_mortar_stone\"] == 1)]\n",
    "ax = sns.countplot(data=has_superstructure_cement_mortar_stone, x=\"damage_grade\", palette=DAMAGE_COLOR_PALETTE)\n",
    "ax.set_title(\"Cantidad de edificaciones por nivel de daño, para edificaciones construidas con cemento y piedra\")\n",
    "ax.set_xlabel(\"Nivel de daño\")\n",
    "ax.set_ylabel(\"Cantidad\")"
   ]
  },
  {
   "cell_type": "code",
   "execution_count": 38,
   "metadata": {},
   "outputs": [
    {
     "data": {
      "text/plain": [
       "1.9675925925925926"
      ]
     },
     "execution_count": 38,
     "metadata": {},
     "output_type": "execute_result"
    }
   ],
   "source": [
    "df[(df[\"has_superstructure_cement_mortar_stone\"] == 1)]['damage_grade'].mean()\n",
    "has_superstructure_cement_mortar_stone =df[(df[\"has_superstructure_cement_mortar_stone\"] == 1)]['damage_grade'].mean()\n",
    "has_superstructure_cement_mortar_stone"
=======
     "execution_count": 24,
     "metadata": {},
     "output_type": "execute_result"
    }
   ],
   "source": [
    "df_superestructure"
>>>>>>> 2ce9b0fd5241c3e462eb222d887f500ef082cfae
   ]
  },
  {
   "cell_type": "markdown",
   "metadata": {},
   "source": [
<<<<<<< HEAD
    "Al incluir cemento en la preparación de la edificación notamos que el promedio de daño bajo por debajo de la media. Lo que puede indicar que haya una relación directa entre los materiales y sus distintas combinaciones y el daño recibido."
   ]
  },
  {
   "cell_type": "code",
   "execution_count": 43,
   "metadata": {},
   "outputs": [
    {
     "data": {
      "text/plain": [
       "Text(0, 0.5, 'Cantidad')"
      ]
     },
     "execution_count": 43,
     "metadata": {},
     "output_type": "execute_result"
    },
    {
     "data": {
      "image/png": "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\n",
      "text/plain": [
       "<Figure size 432x288 with 1 Axes>"
      ]
     },
     "metadata": {
      "needs_background": "light"
     },
     "output_type": "display_data"
    }
   ],
   "source": [
    "has_superstructure_mud_mortar_brick =\\\n",
    "    df[(df[\"has_superstructure_mud_mortar_brick\"] == 1)]\n",
    "ax = sns.countplot(data=has_superstructure_mud_mortar_brick, x=\"damage_grade\", palette=DAMAGE_COLOR_PALETTE)\n",
    "ax.set_title(\"Cantidad de edificaciones por nivel de daño, para edificaciones construidas con barro y ladrillos\")\n",
    "ax.set_xlabel(\"Nivel de daño\")\n",
    "ax.set_ylabel(\"Cantidad\")"
   ]
  },
  {
   "cell_type": "code",
   "execution_count": 48,
   "metadata": {},
   "outputs": [
    {
     "data": {
      "text/plain": [
       "2.271212206519903"
      ]
     },
     "execution_count": 48,
     "metadata": {},
     "output_type": "execute_result"
    }
   ],
   "source": [
    "has_superstructure_mud_mortar_brick =df[(df[\"has_superstructure_mud_mortar_brick\"] == 1)]['damage_grade'].mean()\n",
    "has_superstructure_mud_mortar_brick"
   ]
  },
  {
   "cell_type": "markdown",
   "metadata": {},
   "source": [
    "Nuevamente vemos un aumento en el daño promedio al incorporar materiales menos resistentes como barro, pero en combinación con ladrillo parece que baja un poco el daño en comparación con barro y piedra, aunque la diferencia sea pequeña."
=======
    "Busquemos agrupar en 3 categorias las superestructuras con mayor daño promedio, para ver si encontramos que se agrupan segun el material en algun rango. "
>>>>>>> 2ce9b0fd5241c3e462eb222d887f500ef082cfae
   ]
  },
  {
   "cell_type": "code",
<<<<<<< HEAD
   "execution_count": 49,
=======
   "execution_count": 36,
>>>>>>> 2ce9b0fd5241c3e462eb222d887f500ef082cfae
   "metadata": {},
   "outputs": [
    {
     "data": {
      "text/plain": [
<<<<<<< HEAD
       "Text(0, 0.5, 'Cantidad')"
      ]
     },
     "execution_count": 49,
=======
       "(array([ 25124.,      0.,      0.,      0.,      0., 148259.,      0.,\n",
       "             0.,      0.,  87218.]),\n",
       " array([1. , 1.2, 1.4, 1.6, 1.8, 2. , 2.2, 2.4, 2.6, 2.8, 3. ]),\n",
       " <BarContainer object of 10 artists>)"
      ]
     },
     "execution_count": 36,
>>>>>>> 2ce9b0fd5241c3e462eb222d887f500ef082cfae
     "metadata": {},
     "output_type": "execute_result"
    },
    {
     "data": {
<<<<<<< HEAD
      "image/png": "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\n",
=======
      "image/png": "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\n",
>>>>>>> 2ce9b0fd5241c3e462eb222d887f500ef082cfae
      "text/plain": [
       "<Figure size 432x288 with 1 Axes>"
      ]
     },
     "metadata": {
      "needs_background": "light"
     },
     "output_type": "display_data"
    }
   ],
   "source": [
<<<<<<< HEAD
    "has_superstructure_cement_mortar_brick =\\\n",
    "    df[(df[\"has_superstructure_cement_mortar_brick\"] == 1)]\n",
    "ax = sns.countplot(data=has_superstructure_cement_mortar_brick, x=\"damage_grade\", palette=DAMAGE_COLOR_PALETTE)\n",
    "ax.set_title(\"Cantidad de edificaciones por nivel de daño, para edificaciones construidas con cemento y ladrillo\")\n",
    "ax.set_xlabel(\"Nivel de daño\")\n",
    "ax.set_ylabel(\"Cantidad\")"
   ]
  },
  {
   "cell_type": "code",
   "execution_count": 51,
   "metadata": {},
   "outputs": [
    {
     "data": {
      "text/plain": [
       "1.6932959469793525"
      ]
     },
     "execution_count": 51,
     "metadata": {},
     "output_type": "execute_result"
    }
   ],
   "source": [
    "has_superstructure_cement_mortar_brick =df[(df[\"has_superstructure_cement_mortar_brick\"] == 1)]['damage_grade'].mean()\n",
    "has_superstructure_cement_mortar_brick"
=======
    "plt.hist(df_geo_1['damage_grade'])\n"
>>>>>>> 2ce9b0fd5241c3e462eb222d887f500ef082cfae
   ]
  },
  {
   "cell_type": "code",
   "execution_count": null,
   "metadata": {},
   "outputs": [],
<<<<<<< HEAD
   "source": []
  },
  {
   "cell_type": "code",
   "execution_count": null,
   "metadata": {},
   "outputs": [],
   "source": []
  },
  {
   "cell_type": "markdown",
   "metadata": {},
   "source": [
    "Busquemos agrupar en 3 categorias las superestructuras con mayor daño promedio, para ver si encontramos que se agrupan segun el material en algun rango. "
   ]
  },
  {
   "cell_type": "markdown",
   "metadata": {},
   "source": [
    "## Relacion entre zona greografica y daño a superestructuras.\n",
    "Segun la hipotesis del punto anterior donde en cuenta que existen zonas con mayor daño promedio que otras, queremos saber si hay también un mayor impacto de daño a las superestructuras dependiendo el tipo de material.\n",
    "\n",
    "\n"
=======
   "source": [
    "plt.hist(df_fmferro['damage_grade'])\n"
>>>>>>> 2ce9b0fd5241c3e462eb222d887f500ef082cfae
   ]
  },
  {
   "cell_type": "code",
   "execution_count": null,
   "metadata": {},
   "outputs": [],
<<<<<<< HEAD
   "source": []
  },
  {
   "cell_type": "code",
   "execution_count": null,
   "metadata": {},
   "outputs": [],
   "source": []
=======
   "source": [
    "group_damage = df_fmferro_general.groupby(['damage_grade'])\n",
    "group_damage.mean().head()"
   ]
>>>>>>> 2ce9b0fd5241c3e462eb222d887f500ef082cfae
  },
  {
   "cell_type": "code",
   "execution_count": null,
   "metadata": {},
   "outputs": [],
<<<<<<< HEAD
   "source": []
=======
   "source": [
    "group_damage = df_fmferro_general.groupby(['geo_level_1_id'])\n",
    "group_damage.mean().head()"
   ]
>>>>>>> 2ce9b0fd5241c3e462eb222d887f500ef082cfae
  },
  {
   "cell_type": "code",
   "execution_count": null,
   "metadata": {},
   "outputs": [],
<<<<<<< HEAD
   "source": []
=======
   "source": [
    "x_values = df_fmferro_general['geo_level_1_id'].unique()\n",
    "y_values = df_fmferro_general['damage_grade'].value_counts().tolist()plt.bar(x_values, y_values)\n",
    "plt.show()\n"
   ]
>>>>>>> 2ce9b0fd5241c3e462eb222d887f500ef082cfae
  },
  {
   "cell_type": "code",
   "execution_count": null,
   "metadata": {},
   "outputs": [],
<<<<<<< HEAD
   "source": []
=======
   "source": [
    "group_damage = df_fmferro_general.groupby(['geo_level_1_id'])\n",
    "group_damage.mean().head()"
   ]
>>>>>>> 2ce9b0fd5241c3e462eb222d887f500ef082cfae
  },
  {
   "cell_type": "code",
   "execution_count": null,
   "metadata": {},
   "outputs": [],
   "source": []
  }
 ],
 "metadata": {
  "kernelspec": {
   "display_name": "Python 3",
   "language": "python",
   "name": "python3"
  },
  "language_info": {
   "codemirror_mode": {
    "name": "ipython",
    "version": 3
   },
   "file_extension": ".py",
   "mimetype": "text/x-python",
   "name": "python",
   "nbconvert_exporter": "python",
   "pygments_lexer": "ipython3",
   "version": "3.8.8"
  }
 },
 "nbformat": 4,
 "nbformat_minor": 4
}
